{
  "nbformat": 4,
  "nbformat_minor": 0,
  "metadata": {
    "colab": {
      "provenance": [],
      "include_colab_link": true
    },
    "kernelspec": {
      "name": "python3",
      "display_name": "Python 3"
    },
    "language_info": {
      "name": "python"
    }
  },
  "cells": [
    {
      "cell_type": "markdown",
      "metadata": {
        "id": "view-in-github",
        "colab_type": "text"
      },
      "source": [
        "<a href=\"https://colab.research.google.com/github/jeet1912/ms/blob/main/cs670/Assignment_2.ipynb\" target=\"_parent\"><img src=\"https://colab.research.google.com/assets/colab-badge.svg\" alt=\"Open In Colab\"/></a>"
      ]
    },
    {
      "cell_type": "markdown",
      "source": [
        "**Note to grader:** Each question consists of parts, e.g. Q1(i), Q1(ii), etc. Each part must be graded  on a 0-4 scale, following the standard NJIT convention (A:4, B+: 3.5, B:3, C+: 2.5, C: 2, D:1, F:0).\n",
        "The total score must be re-scaled to 100 &mdash; that should apply to all future assignments so that Canvas assigns the same weight on all assignments."
      ],
      "metadata": {
        "id": "_gY5q81-_Bix"
      }
    },
    {
      "cell_type": "markdown",
      "source": [
        "----\n",
        "\n",
        "<i>General instructions for this and future notebooks:</i>\n",
        "1. To run a cell and move to the next cell: Hold down <strong>Shift</strong> and press <strong>Enter</strong>.\n",
        "2. To run a cell and stay in the same cell: Hold down <b>Ctrl</b> and press <b>Enter</b>.\n",
        "3. Use the arrow up and down to navigate or do it manually as you prefer.\n",
        "4. Escape from typing a cell: Hit <b>Esc</b>.\n",
        "\n",
        "---------\n",
        "\n",
        "<b>Note: </b>\n",
        "\n",
        "> You must run/evaluate all cells. <b>Order of cell execution is important.</b>\n",
        "\n",
        "\n",
        "\n",
        "> You must work directly out of a copy of the assignment notebook given to you, in the exact order.\n",
        "\n",
        "> You should submit both .ipynb and .pdf files.\n",
        "\n",
        "> File's names should be following this format: \"StudentName_Assignment2.ipynb\" for the Python version and \"StudentName_Assignment2.pdf\" for the PDF version.\n"
      ],
      "metadata": {
        "id": "pwwJOpuA_JgS"
      }
    },
    {
      "cell_type": "code",
      "execution_count": 1,
      "metadata": {
        "id": "xYYg2nUu-yFx"
      },
      "outputs": [],
      "source": [
        "# Grader's area\n",
        "\n",
        "import numpy as np\n",
        "\n",
        "# This assignment contains 2 exercises each with at most 2 parts.\n",
        "# We initialize a 2x2 array M, containing zeros.\n",
        "# The grade for question i, part j, will be recorded in M[i,j].\n",
        "# Then the total grade can be easily computed in the last grader's area.\n",
        "\n",
        "M = np.zeros((3,2))\n",
        "max_score_M = np.zeros((3,2))"
      ]
    },
    {
      "cell_type": "markdown",
      "source": [
        "# **Assignment 2**\n",
        "The second assignment helps you become familiar with search algorithms, applying these algorithms to specific problems."
      ],
      "metadata": {
        "id": "kmobyNJb_KVw"
      }
    },
    {
      "cell_type": "markdown",
      "source": [
        "### **Part 1: Lion, goat and grass problem**\n",
        "\n",
        "The Lion, Goat, and Grass problem is a classic example of a river crossing puzzle. In this problem, a farmer needs to transport a lion, a goat, and a grass across a river. The farmer has a boat that is small and can only carry one of these items along with the farmer at a time. The challenge arises from the following **constraints**:\n",
        "\n",
        "\n",
        "\n",
        "1.   If the lion and the goat are left together on the same side of the river without the farmer, the lion will eat the goat.\n",
        "2.   If the goat and the grass are left together on the same side of the river without the farmer, the goat will eat the grass.\n",
        "\n",
        "The goal is to devise a strategy that allows the farmer to transport all three items (the lion, the goat, and the grass) across the river without any of them being eaten.\n",
        "\n",
        "> For a clearer understanding, please refer to this [video link](https://www.youtube.com/watch?v=qcecR2kYtmw)\n",
        "\n",
        "\n",
        "\n",
        "\n"
      ],
      "metadata": {
        "id": "QHxH78bZ_A-9"
      }
    },
    {
      "cell_type": "markdown",
      "source": [
        "---------\n",
        "We can represent the state with a tuple of four boolean values **(farmer, lion, goat, grass)**, where **False** might represent an item being on the original side (left) and **True** being on the destination side (right). Not all tuples are valid.\n",
        "\n",
        "Take an example:\n",
        "\n",
        "\n",
        "1. (False, False, False, False) - Valid: Everyone is on the left side.\n",
        "2. (False, True, True, False) - Invalid: The lion and goat are left without the farmer.\n",
        "3. (True, True, False, False) - Invalid: The goat and grass are left without the farmer.\n",
        "\n",
        "Possible Solution of the problem:\n",
        "1. (False, False, False, False) - Initial state\n",
        "2. (True, False, True, False) - Take the goat across first, leaving the lion and grass behind. This avoids any immediate danger.\n",
        "3. (False, False, True, False) - Return alone to the original side to pick up the lion.\n",
        "4. (True, True, True, False) - Take the lion across\n",
        "5. (False, True, False, False) - Bring the goat back with you. This prevents the lion from eating the goat.\n",
        "6. (True, True, False, True) - Leave the goat on the original side and take the grass across to the far side, leaving it with the lion. The lion won't eat the grass.\n",
        "7. (False, True, False, True) - Return alone to the original side for the last time to pick up the goat.\n",
        "8. (True, True, True, True) - Take the goat across again. Now all three are on the far side, safely transported.\n",
        "\n"
      ],
      "metadata": {
        "id": "hNL0V0NfNJLA"
      }
    },
    {
      "cell_type": "markdown",
      "source": [
        "\n",
        "## <font color='#008DFF'> **Question 1**\n",
        "\n",
        "Implement BFS (Breadth First Search):\n",
        "\n",
        "Write a Python program to solve the river crossing puzzle using the BFS algorithm. Ensure your program prints out each step of the solution, showing which entities are on each side of the river.\n",
        "\n",
        "\n",
        "<b>Expected Output:</b>\n",
        "Something that looks like the following or better:<br>\n",
        "\n",
        "<font color='#FFFFFF'>\n",
        "<code>\n",
        "starting side: Man, Lion, Goat, Grass<br>\n",
        "target side: <br>starting side: Lion, Grass<br>\n",
        "target side: Man, Goat<br>starting side: Man, Lion, Grass<br>\n",
        "target side: Goat<br>starting side: Grass<br>\n",
        "target side: Man, Lion, Goat<br>starting side: Man, Goat, Grass<br>\n",
        "target side: Lion<br>starting side: Goat<br>\n",
        "target side: Man, Lion, Grass<br>starting side: Man, Goat<br>\n",
        "target side: Lion, Grass<br>starting side: <br>\n",
        "target side: Man, Lion, Goat, Grass<br>\n",
        "</code>\n",
        "\n"
      ],
      "metadata": {
        "id": "JcDajap-IL5G"
      }
    },
    {
      "cell_type": "code",
      "source": [
        "#BFS\n",
        "\n",
        "\"\"\"\n",
        "This is a starter code for you to begin. You can fill in the code according to the description\n",
        "\"\"\"\n",
        "from collections import deque\n",
        "\n",
        "\"\"\"\n",
        "This function is used to print results. Please place the code related to formatting here.\n",
        "\"\"\"\n",
        "def state_description(state):\n",
        "\n",
        "    return\n",
        "\n",
        "\"\"\"\n",
        "This function is used to check whether the lion, goat, and grass are in the same state.\n",
        "If a conflict occurs (such as the lion and goat being together), the function will return false.\n",
        "If there is no conflict and it's a valid state, it returns true.\n",
        "\"\"\"\n",
        "def is_valid(state):\n",
        "\n",
        "    return\n",
        "\n",
        "\n",
        "\"\"\"\n",
        "This function is used in conjunction with the is_valid function to filter out valid states for the next moment,\n",
        "returning a list (or array) of all such states.\n",
        "\"\"\"\n",
        "def get_possible_moves(state):\n",
        "    man, lion, goat, grass = state\n",
        "    possible_moves = []\n",
        "\n",
        "\n",
        "    return [move for move in possible_moves if is_valid(move)]\n",
        "\n",
        "\"\"\"\n",
        "Here is the place where you need to implement the main BFS algorithm.\n",
        "\"\"\"\n",
        "def bfs(start, goal):\n",
        "\n",
        "    return\n",
        "\n",
        "\n",
        "\"\"\"\n",
        "Main\n",
        "\"\"\"\n",
        "start_state = (False, False, False, False)\n",
        "goal_state = (True, True, True, True)\n",
        "\n",
        "solution = bfs(start_state, goal_state)\n",
        "\n",
        "if solution:\n",
        "    for step in solution:\n",
        "        print(state_description(step))\n",
        "else:\n",
        "    print(\"No solution found.\")"
      ],
      "metadata": {
        "id": "KlegVJQvBQib"
      },
      "execution_count": null,
      "outputs": []
    },
    {
      "cell_type": "code",
      "source": [
        "# Your code here. Add more cells if needed\n",
        "\n",
        "#dictionary to store the entities\n",
        "entities = {0: 'Man', 1:'Lion', 2:'Goat', 3:'Grass'}\n",
        "\n",
        "#Function to describe the state\n",
        "def state_description(state):\n",
        "\n",
        "    starting_side = []\n",
        "    target_side = []\n",
        "\n",
        "    for index, bool in enumerate(state):\n",
        "        if bool == True:\n",
        "            target_side.append(entities[index])\n",
        "\n",
        "        else:\n",
        "            starting_side.append(entities[index])\n",
        "\n",
        "    state_description = 'starting side: ' + ', '.join(starting_side) + '\\n' + 'target side: ' + ', '.join(target_side)\n",
        "\n",
        "    return state_description\n",
        "\n",
        "\n",
        "#Function to check if the state is valid\n",
        "def is_valid(state):\n",
        "\n",
        "    validity = True\n",
        "    if ((state[1] == state[2]) and (state[0] != state[1])) or ((state[2] == state[3]) and (state[0] != state[2])):\n",
        "        validity = False\n",
        "\n",
        "    return validity\n",
        "\n",
        "#function to get the subsequent state\n",
        "def get_possible_moves(state):\n",
        "    \"\"\"\n",
        "    These are the only possible moves according to the description since grass, goat and lion cannot cross the river by themselves.\n",
        "    possible_moves.append([not man, lion, goat, grass])\n",
        "    possible_moves.append([not man, not lion, goat, grass])\n",
        "    possible_moves.append([not man, lion, not goat, grass])\n",
        "    possible_moves.append([not man, lion, goat, not grass])\n",
        "    \"\"\"\n",
        "\n",
        "    possible_moves = [[not state[j] if (j == 0 or i == j) else state[j] for j in range(4)] for i in range(4)]\n",
        "\n",
        "    return [move for move in possible_moves if is_valid(move)]\n",
        "\n",
        "\n",
        "\n",
        "def bfs(start, goal):\n",
        "    start = list(start)\n",
        "    goal = list(goal)\n",
        "    queue = deque([[start]])\n",
        "    visited = set(tuple(start)) #since we always expand start node.\n",
        "    while queue:\n",
        "        path = queue.popleft()\n",
        "        curr_state = path[-1]\n",
        "        print('Number of states visited in BFS: ', len(visited))\n",
        "        if curr_state == goal:\n",
        "            return path\n",
        "        for next_state in get_possible_moves(curr_state):\n",
        "            if tuple(next_state) not in visited:\n",
        "                visited.add(tuple(next_state))\n",
        "                queue.append(path + [next_state])\n",
        "\n",
        "\n",
        "start_state = (False, False, False, False)\n",
        "goal_state = (True, True, True, True)\n",
        "\n",
        "solution = bfs(start_state, goal_state)\n",
        "\n",
        "if solution:\n",
        "    for step in solution:\n",
        "        print(state_description(step))\n",
        "else:\n",
        "    print(\"No solution found.\")\n"
      ],
      "metadata": {
        "id": "AcbI0Y5cKw7o",
        "colab": {
          "base_uri": "https://localhost:8080/"
        },
        "outputId": "f1a65dec-d3af-49f8-e74c-083dfccd8d8f"
      },
      "execution_count": 77,
      "outputs": [
        {
          "output_type": "stream",
          "name": "stdout",
          "text": [
            "Number of states visited in BFS:  1\n",
            "Number of states visited in BFS:  2\n",
            "Number of states visited in BFS:  4\n",
            "Number of states visited in BFS:  6\n",
            "Number of states visited in BFS:  6\n",
            "Number of states visited in BFS:  7\n",
            "Number of states visited in BFS:  8\n",
            "Number of states visited in BFS:  9\n",
            "Number of states visited in BFS:  9\n",
            "Number of states visited in BFS:  10\n",
            "Number of states visited in BFS:  11\n",
            "starting side: Man, Lion, Goat, Grass\n",
            "target side: \n",
            "starting side: Lion, Grass\n",
            "target side: Man, Goat\n",
            "starting side: Man, Lion, Grass\n",
            "target side: Goat\n",
            "starting side: Grass\n",
            "target side: Man, Lion, Goat\n",
            "starting side: Man, Goat, Grass\n",
            "target side: Lion\n",
            "starting side: Goat\n",
            "target side: Man, Lion, Grass\n",
            "starting side: Man, Goat\n",
            "target side: Lion, Grass\n",
            "starting side: \n",
            "target side: Man, Lion, Goat, Grass\n"
          ]
        }
      ]
    },
    {
      "cell_type": "code",
      "source": [
        "# Grader's area\n",
        "\n",
        "\n",
        "\n",
        "\n",
        "# M[1,1] =\n",
        "\n",
        "max_score_M[1,1] = 10"
      ],
      "metadata": {
        "id": "IyMXTADBKm92"
      },
      "execution_count": null,
      "outputs": []
    },
    {
      "cell_type": "markdown",
      "source": [
        "## <font color='#008DFF'> **Question 2**\n",
        "\n",
        "Implement DFS (Depth First Search ):\n",
        "\n",
        "Write a Python program to solve the river crossing puzzle using the BFS algorithm. Ensure your program prints out each step of the solution, showing which entities are on each side of the river.\n",
        "\n",
        "\n",
        "<b>Expected Output:</b>\n",
        "Something that looks like the following or better:<br>\n",
        "\n",
        "<font color='#FFFFFF'>\n",
        "<code>\n",
        "starting side: Man, Lion, Goat, Grass<br>\n",
        "target side: <br>\n",
        "starting side: Lion, Grass<br>\n",
        "target side: Man, Goat<br>\n",
        "starting side: Man, Lion, Grass<br>\n",
        "target side: Goat<br>\n",
        "starting side: Grass<br>\n",
        "target side: Man, Lion, Goat<br>\n",
        "starting side: Man, Goat, Grass<br>\n",
        "target side: Lion<br>\n",
        "starting side: Goat<br>\n",
        "target side: Man, Lion, Grass<br>\n",
        "starting side: Man, Goat<br>\n",
        "target side: Lion, Grass<br>\n",
        "starting side: <br>\n",
        "target side: Man, Lion, Goat, Grass<br>\n",
        "</code>"
      ],
      "metadata": {
        "id": "mkAbMOY-AzJj"
      }
    },
    {
      "cell_type": "code",
      "source": [
        "#DFS\n",
        "\n",
        "\"\"\"\n",
        "This is a starter code for you to begin. You can fill in the code according to the description\n",
        "Aside from the functions for the specific algorithms dfs and bfs, other functions can reuse the same code.\n",
        "\"\"\"\n",
        "\n",
        "\"\"\"\n",
        "This function is used to print results. Please place the code related to formatting here.\n",
        "\"\"\"\n",
        "def state_description(state):\n",
        "\n",
        "    return\n",
        "\n",
        "\n",
        "\n",
        "\"\"\"\n",
        "This function is used to check whether the lion, goat, and grass are in the same state.\n",
        "If a conflict occurs (such as the lion and goat being together), the function will return false.\n",
        "If there is no conflict and it's a valid state, it returns true.\n",
        "\"\"\"\n",
        "def is_valid(state):\n",
        "\n",
        "    return\n",
        "\n",
        "\n",
        "\"\"\"\n",
        "This function is used in conjunction with the is_valid function to filter out valid states for the next moment,\n",
        "returning a list (or array) of all such states.\n",
        "\"\"\"\n",
        "def get_possible_moves(state):\n",
        "    man, lion, goat, grass = state\n",
        "    possible_moves = []\n",
        "\n",
        "    return [move for move in possible_moves if is_valid(move)]\n",
        "\n",
        "\n",
        "\"\"\"\n",
        "Here is the place where you need to implement the main DFS algorithm.\n",
        "\"\"\"\n",
        "def dfs(state, goal, path=[], visited=set()):\n",
        "\n",
        "    return\n",
        "\n",
        "\n",
        "\"\"\"\n",
        "Main\n",
        "\"\"\"\n",
        "start_state = (False, False, False, False)\n",
        "goal_state = (True, True, True, True)\n",
        "\n",
        "solution = dfs(start_state, goal_state)\n",
        "\n",
        "if solution:\n",
        "    for step in solution:\n",
        "        print(state_description(step))\n",
        "else:\n",
        "    print(\"No solution found.\")"
      ],
      "metadata": {
        "id": "PLW64WwgYwru"
      },
      "execution_count": null,
      "outputs": []
    },
    {
      "cell_type": "code",
      "source": [
        "# Your code here. Add more cells if needed\n",
        "\n",
        "#dictionary to store the entities\n",
        "entities = {0: 'Man', 1:'Lion', 2:'Goat', 3:'Grass'}\n",
        "\n",
        "#Function to describe the state\n",
        "def state_description(state):\n",
        "\n",
        "    state = list(state)\n",
        "    starting_side = []\n",
        "    target_side = []\n",
        "\n",
        "    for index, bool in enumerate(state):\n",
        "        if bool == True:\n",
        "            target_side.append(entities[index])\n",
        "        else:\n",
        "            starting_side.append(entities[index])\n",
        "\n",
        "    state_description = 'starting side: ' + ', '.join(starting_side) + '\\n' + 'target side: ' + ', '.join(target_side)\n",
        "\n",
        "    return state_description\n",
        "\n",
        "\n",
        "#Function to check if the state is valid\n",
        "def is_valid(state):\n",
        "\n",
        "    validity = True\n",
        "    if ((state[1] == state[2]) and (state[0] != state[1])) or ((state[2] == state[3]) and (state[0] != state[2])):\n",
        "        validity = False\n",
        "\n",
        "    return validity\n",
        "\n",
        "#Function to get the subsequent state\n",
        "def get_possible_moves(state):\n",
        "\n",
        "    possible_moves = [[not state[j] if (j == 0 or i == j) else state[j] for j in range(4)] for i in range(4)]\n",
        "\n",
        "    return [move for move in possible_moves if is_valid(move)]\n",
        "\n",
        "\n",
        "def dfs(start,goal,path=[], visited=set()):\n",
        "    start = list(start)\n",
        "    goal = list(goal)\n",
        "    path = path + [start]\n",
        "    visited.add(tuple(start))\n",
        "    if start == goal:\n",
        "        return path\n",
        "    for next_state in get_possible_moves(start):\n",
        "        if tuple(next_state) not in visited:\n",
        "            new_path = dfs(next_state, goal, path, visited)\n",
        "            print('Number of states visited in DFS: ', len(visited))\n",
        "            if new_path:\n",
        "                return new_path\n",
        "    return None\n",
        "\n",
        "start_state = (False, False, False, False)\n",
        "goal_state = (True, True, True, True)\n",
        "\n",
        "solution = dfs(start_state, goal_state)\n",
        "if solution:\n",
        "    for step in solution:\n",
        "        print(state_description(step))\n",
        "else:\n",
        "    print(\"No solution found.\")"
      ],
      "metadata": {
        "id": "sh6t8F7IZReb",
        "colab": {
          "base_uri": "https://localhost:8080/"
        },
        "outputId": "4aecf606-dba3-477f-91c4-2728a47b14d6"
      },
      "execution_count": 76,
      "outputs": [
        {
          "output_type": "stream",
          "name": "stdout",
          "text": [
            "Number of states visited in DFS:  8\n",
            "Number of states visited in DFS:  8\n",
            "Number of states visited in DFS:  8\n",
            "Number of states visited in DFS:  8\n",
            "Number of states visited in DFS:  8\n",
            "Number of states visited in DFS:  8\n",
            "Number of states visited in DFS:  8\n",
            "starting side: Man, Lion, Goat, Grass\n",
            "target side: \n",
            "starting side: Lion, Grass\n",
            "target side: Man, Goat\n",
            "starting side: Man, Lion, Grass\n",
            "target side: Goat\n",
            "starting side: Grass\n",
            "target side: Man, Lion, Goat\n",
            "starting side: Man, Goat, Grass\n",
            "target side: Lion\n",
            "starting side: Goat\n",
            "target side: Man, Lion, Grass\n",
            "starting side: Man, Goat\n",
            "target side: Lion, Grass\n",
            "starting side: \n",
            "target side: Man, Lion, Goat, Grass\n"
          ]
        }
      ]
    },
    {
      "cell_type": "code",
      "source": [
        "# Grader's area\n",
        "\n",
        "\n",
        "\n",
        "\n",
        "# M[1,2] =\n",
        "\n",
        "max_score_M[1,2] = 10"
      ],
      "metadata": {
        "id": "ibOaMgwOZQ9c"
      },
      "execution_count": null,
      "outputs": []
    },
    {
      "cell_type": "markdown",
      "source": [
        "## **Part 2: Running time comparison**\n",
        "\n",
        "This part will compare the time consumed by the two algorithms."
      ],
      "metadata": {
        "id": "C9sATIpVJs19"
      }
    },
    {
      "cell_type": "markdown",
      "source": [
        "## <font color='#008DFF'> **Question 1**\n",
        "\n",
        "Using the Python <code>datetime</code> package to calculate the time spent by the two algorithms you implemented.\n",
        "\n",
        "<b>Expected Output:</b>\n",
        "Something that looks like the following or better:<br>\n",
        "\n",
        "<font color='#FFFFFF'>\n",
        "<code>The time costing of BFS is:  0.186  milliseconds. The time costing of DFS is:  0.085  milliseconds.</code>\n",
        "\n",
        "The specific time values do not need to exactly match the expected results.\n"
      ],
      "metadata": {
        "id": "YRP-SCBWJaUi"
      }
    },
    {
      "cell_type": "code",
      "source": [
        "start_state = (False, False, False, False)\n",
        "goal_state = (True, True, True, True)\n",
        "\n",
        "solution1 = bfs(start_state, goal_state)\n",
        "solution2 = dfs(start_state, goal_state)\n"
      ],
      "metadata": {
        "id": "SjT-J7Tsbk-d"
      },
      "execution_count": null,
      "outputs": []
    },
    {
      "cell_type": "code",
      "source": [
        "# Your code here. Add more cells if needed\n",
        "import datetime\n",
        "\n",
        "start_time = datetime.datetime.now()\n",
        "solution1 = bfs(start_state, goal_state)\n",
        "end_time = datetime.datetime.now()\n",
        "\n",
        "print(\"Time taken by BFS in milliseconds: \", (end_time - start_time).total_seconds() * 1000)"
      ],
      "metadata": {
        "id": "NP-JVGljdMr9",
        "colab": {
          "base_uri": "https://localhost:8080/"
        },
        "outputId": "ab18024a-bae5-47ad-b2dd-d14b5569264b"
      },
      "execution_count": 37,
      "outputs": [
        {
          "output_type": "stream",
          "name": "stdout",
          "text": [
            "Time taken by BFS in milliseconds:  0.16899999999999998\n"
          ]
        }
      ]
    },
    {
      "cell_type": "code",
      "source": [
        "start_time = datetime.datetime.now()\n",
        "solution2 = dfs(start_state, goal_state)\n",
        "end_time = datetime.datetime.now()\n",
        "\n",
        "print(\"Time taken by DFS in milliseconds: \", (end_time - start_time).total_seconds() * 1000)"
      ],
      "metadata": {
        "id": "Wa9EEdQExxCB",
        "colab": {
          "base_uri": "https://localhost:8080/"
        },
        "outputId": "b7fb333f-94cc-48dd-d6f5-eb53cbc7c810"
      },
      "execution_count": 35,
      "outputs": [
        {
          "output_type": "stream",
          "name": "stdout",
          "text": [
            "Time taken by DFS in milliseconds:  0.089\n"
          ]
        }
      ]
    },
    {
      "cell_type": "code",
      "source": [
        "# Grader's area\n",
        "\n",
        "\n",
        "\n",
        "\n",
        "# M[2,1] =\n",
        "\n",
        "max_score_M[2,1] = 5"
      ],
      "metadata": {
        "id": "NV-0ei4tat4a"
      },
      "execution_count": null,
      "outputs": []
    },
    {
      "cell_type": "markdown",
      "source": [
        "## **Part 3: Analysis and Conclusion (theory question)**\n",
        "\n",
        "Compare the solutions obtained using Breadth-First Search (BFS) and Depth-First Search (DFS) for the river crossing puzzle based on your implementations and analyses. Conclude which algorithm is better suited for solving this particular puzzle and why?"
      ],
      "metadata": {
        "id": "CIt8_5wTZopg"
      }
    },
    {
      "cell_type": "markdown",
      "source": [
        "##### My analysis and conclusion\n",
        "<hr> The maximum branching factor is same for both of them which is 4, since for each state, there are 4 possible moves that the farmar can take. The optimal solution has 7 steps. As you may have noticed, I've displayed the number of nodes or states visited by BFS (11 states) and DFS (8 states, 7 steps) to reach the final goal, therefore, DFS solves this puzzle faster than BFS. This is because of the extensive search conducted by BFS which enables it to cover every reachable node whereas DFS prioritises going deep into a particular path before backtracking which is ideal for the given puzzle where the optimal solution is found after seven steps, which is at a considerable depth.\n",
        "<br>\n",
        "<br>\n",
        "<br>\n",
        "\n",
        "\n",
        "\n",
        "\n",
        "\n",
        "\n"
      ],
      "metadata": {
        "id": "8kgNMdV-bRxu"
      }
    },
    {
      "cell_type": "code",
      "source": [
        "# Grader's area\n",
        "\n",
        "\n",
        "\n",
        "\n",
        "# M[3,1] =\n",
        "\n",
        "max_score_M[3,1] = 5"
      ],
      "metadata": {
        "id": "IYyeD-NJeI0Z"
      },
      "execution_count": null,
      "outputs": []
    },
    {
      "cell_type": "markdown",
      "source": [
        "<hr>"
      ],
      "metadata": {
        "id": "FC1B8F9Oa3Yh"
      }
    },
    {
      "cell_type": "code",
      "source": [
        "#Grader's area\n",
        "\n",
        "rawScore = np.sum(M)\n",
        "maxScore = np.sum(max_score_M)\n",
        "score = rawScore*100/maxScore\n",
        "\n",
        "print(\"raw sccore: \", rawScore, \", max raw score: \", maxScore, \". final score: \", score)"
      ],
      "metadata": {
        "id": "tqeu5YgPayY8"
      },
      "execution_count": null,
      "outputs": []
    }
  ]
}