{
  "nbformat": 4,
  "nbformat_minor": 0,
  "metadata": {
    "colab": {
      "provenance": []
    },
    "kernelspec": {
      "display_name": "Python 3",
      "language": "python",
      "name": "python3"
    },
    "language_info": {
      "codemirror_mode": {
        "name": "ipython",
        "version": 3
      },
      "file_extension": ".py",
      "mimetype": "text/x-python",
      "name": "python",
      "nbconvert_exporter": "python",
      "pygments_lexer": "ipython3",
      "version": "3.8.5"
    }
  },
  "cells": [
    {
      "cell_type": "markdown",
      "metadata": {
        "id": "Tajfsk_7JY3E"
      },
      "source": [
        "**Note to grader:** Each question consists of parts, e.g. Q1(i), Q1(ii), etc. Each part must be graded on scale of 0-4 scale, following the standard NJIT convention."
      ]
    },
    {
      "cell_type": "markdown",
      "metadata": {
        "id": "e8SKy70z2osa"
      },
      "source": [
        "----\n",
        "\n",
        "<i>General instructions for this and future notebooks:</i>\n",
        "1. To run a cell and move to the next cell: Hold down <strong>Shift</strong> and press <strong>Enter</strong>.\n",
        "2. To run a cell and stay in the same cell: Hold down <b>Ctrl</b> and press <b>Enter</b>.\n",
        "3. Use the arrow up and down to navigate or do it manually as you prefer.\n",
        "4. Escape from typing a cell: Hit <b>Esc</b>.\n",
        "\n",
        "---------\n",
        "\n",
        "<b>Note: </b>\n",
        "\n",
        "> You must run/evaluate all cells. <b>Order of cell execution is important.</b>\n",
        "\n",
        "\n",
        "\n",
        "> You must work directly out of a copy of the assignment notebook given to you, in the exact order.\n"
      ]
    },
    {
      "cell_type": "code",
      "metadata": {
        "id": "I-sfBXk9AkfN"
      },
      "source": [
        "# Grader's area\n",
        "\n",
        "import numpy as np\n",
        "\n",
        "# This assignment contains 5 exercises each with at most 3 parts.\n",
        "# We initialize a 6x4 array M, containing zeros.\n",
        "# The grade for question i, part j, will be recorded in M[i,j].\n",
        "# Then the total grade can be easily computed in the last grader's area.\n",
        "\n",
        "maxScore = 0\n",
        "M = np.zeros((6,4))"
      ],
      "execution_count": 2,
      "outputs": []
    },
    {
      "cell_type": "markdown",
      "metadata": {
        "id": "ly4laI7pfGJO"
      },
      "source": [
        "# **Assignment 1**\n",
        "The first assignment walks you through some elements of Python/Numpy. It is meant mostly to familiarize you with Jupyter notebooks. It includes cells for demonstration, leading to clearly-marked cells for questions.\n",
        "\n"
      ]
    },
    {
      "cell_type": "markdown",
      "metadata": {
        "id": "8owP8xk_yi6h"
      },
      "source": [
        "-----------------------"
      ]
    },
    {
      "cell_type": "markdown",
      "metadata": {
        "id": "r_tl0TKffGJP"
      },
      "source": [
        "### **Part 1: NumPy walk-through**\n",
        "\n",
        "Let's look at matrix A and how it is presented in Numpy:\n",
        "\\begin{equation*}\n",
        "A =\n",
        "\\begin{pmatrix}\n",
        "1 & 2 & 3 \\\\\n",
        "4 & 5 & 6 \\\\\n",
        "7 & 8 & 9\n",
        "\\end{pmatrix}\n",
        "\\end{equation*}"
      ]
    },
    {
      "cell_type": "code",
      "metadata": {
        "id": "ik4Gngp2fGJQ",
        "colab": {
          "base_uri": "https://localhost:8080/"
        },
        "outputId": "66832c86-5d8a-45f9-9901-3ba6a6b59f41"
      },
      "source": [
        "import numpy as np\n",
        "\n",
        "# here the notation np.X invokes a function X from module np\n",
        "#    where np is an alias for numpy as note in line-1 above.\n",
        "\n",
        "A = np.array([[1,2,3],[4,5,6],[7,8,9]], dtype = float)\n",
        "print('This is how matrix A will be presented in Numpy:\\n\\n {}\\n'.format(A))\n",
        "\n",
        "# Example of describing A\n",
        "print('We just create a {}'.format(type(A)))\n",
        "print('Our template has shape as {} with total size of {}'.format(A.shape, A.size))\n",
        "print('The total dimension of A is {}'.format(A.ndim))\n",
        "\n",
        "# Multi-line print out\n",
        "print('''The data types of elements of A are {},\n",
        "        which consumes {} bytes'''.format(A.dtype, A.nbytes))"
      ],
      "execution_count": 3,
      "outputs": [
        {
          "output_type": "stream",
          "name": "stdout",
          "text": [
            "This is how matrix A will be presented in Numpy:\n",
            "\n",
            " [[1. 2. 3.]\n",
            " [4. 5. 6.]\n",
            " [7. 8. 9.]]\n",
            "\n",
            "We just create a <class 'numpy.ndarray'>\n",
            "Our template has shape as (3, 3) with total size of 9\n",
            "The total dimension of A is 2\n",
            "The data types of elements of A are float64,\n",
            "        which consumes 72 bytes\n"
          ]
        }
      ]
    },
    {
      "cell_type": "code",
      "metadata": {
        "id": "oqhQyAZTfGJV"
      },
      "source": [
        "# create a copy of A with integer type\n",
        "A_copy = np.array(A, dtype=np.int32)"
      ],
      "execution_count": 4,
      "outputs": []
    },
    {
      "cell_type": "markdown",
      "metadata": {
        "id": "2XxgGLoIfGJY"
      },
      "source": [
        "#### NumPy array operations"
      ]
    },
    {
      "cell_type": "code",
      "metadata": {
        "id": "scImnsyJfGJY",
        "colab": {
          "base_uri": "https://localhost:8080/"
        },
        "outputId": "782a316d-7449-49ce-e987-6b580c272ef5"
      },
      "source": [
        "# Turn a python list to numpy array\n",
        "checking_acct = [10.1, 2.3, -3, 100]\n",
        "checking_acct_array = np.asarray(checking_acct)\n",
        "type(checking_acct_array)"
      ],
      "execution_count": 5,
      "outputs": [
        {
          "output_type": "execute_result",
          "data": {
            "text/plain": [
              "numpy.ndarray"
            ]
          },
          "metadata": {},
          "execution_count": 5
        }
      ]
    },
    {
      "cell_type": "code",
      "metadata": {
        "id": "mHPmhzdOfGJb",
        "colab": {
          "base_uri": "https://localhost:8080/"
        },
        "outputId": "6464c47d-ebf4-4e70-86a6-9973821900ed"
      },
      "source": [
        "# adding $2 to each deposit/withdrawal transaction\n",
        "checking_acct_array + 2"
      ],
      "execution_count": 6,
      "outputs": [
        {
          "output_type": "execute_result",
          "data": {
            "text/plain": [
              "array([ 12.1,   4.3,  -1. , 102. ])"
            ]
          },
          "metadata": {},
          "execution_count": 6
        }
      ]
    },
    {
      "cell_type": "code",
      "metadata": {
        "id": "RQAbwx5gfGJe",
        "colab": {
          "base_uri": "https://localhost:8080/"
        },
        "outputId": "e3a2aa13-7ccb-466f-856e-31c42cd966e3"
      },
      "source": [
        "# subtract $0.5 from each transaction\n",
        "checking_acct_array - 0.5"
      ],
      "execution_count": 7,
      "outputs": [
        {
          "output_type": "execute_result",
          "data": {
            "text/plain": [
              "array([ 9.6,  1.8, -3.5, 99.5])"
            ]
          },
          "metadata": {},
          "execution_count": 7
        }
      ]
    },
    {
      "cell_type": "code",
      "metadata": {
        "id": "UaMikHWpfGJg",
        "colab": {
          "base_uri": "https://localhost:8080/"
        },
        "outputId": "cd5347ca-c7c5-4bb9-a70d-09066a8d649f"
      },
      "source": [
        "# double it up\n",
        "checking_acct_array * 2"
      ],
      "execution_count": 8,
      "outputs": [
        {
          "output_type": "execute_result",
          "data": {
            "text/plain": [
              "array([ 20.2,   4.6,  -6. , 200. ])"
            ]
          },
          "metadata": {},
          "execution_count": 8
        }
      ]
    },
    {
      "cell_type": "code",
      "metadata": {
        "id": "Viiu3ePUfGJi",
        "colab": {
          "base_uri": "https://localhost:8080/"
        },
        "outputId": "1bb76e9a-73cc-4f90-c403-7b5b4b8250ab"
      },
      "source": [
        "# divide the amounts by 3\n",
        "checking_acct_array / 3"
      ],
      "execution_count": 9,
      "outputs": [
        {
          "output_type": "execute_result",
          "data": {
            "text/plain": [
              "array([ 3.36666667,  0.76666667, -1.        , 33.33333333])"
            ]
          },
          "metadata": {},
          "execution_count": 9
        }
      ]
    },
    {
      "cell_type": "markdown",
      "source": [
        "*Added by me*: Standard operations with arrays are carried out element-wise."
      ],
      "metadata": {
        "id": "DHeT8XhhTWjC"
      }
    },
    {
      "cell_type": "markdown",
      "metadata": {
        "id": "oGZMC38NfGJl"
      },
      "source": [
        "*Note*: You can't do the above operation with list. You will have to iterate the list's elements. For example:"
      ]
    },
    {
      "cell_type": "code",
      "metadata": {
        "id": "u6EM8P58fGJl",
        "colab": {
          "base_uri": "https://localhost:8080/"
        },
        "outputId": "ad386b30-98d7-4487-9cdb-8babc2ee590d"
      },
      "source": [
        "# to add $2 to each transaction with checking_acct, we must use list comprehension.\n",
        "[x + 2 for x in checking_acct]"
      ],
      "execution_count": 10,
      "outputs": [
        {
          "output_type": "execute_result",
          "data": {
            "text/plain": [
              "[12.1, 4.3, -1, 102]"
            ]
          },
          "metadata": {},
          "execution_count": 10
        }
      ]
    },
    {
      "cell_type": "code",
      "metadata": {
        "id": "eYGHGQRhfGJo",
        "colab": {
          "base_uri": "https://localhost:8080/"
        },
        "outputId": "4527cb59-240e-45c4-e940-fc0813433513"
      },
      "source": [
        "# create a one-dimensional array containing 10 ones\n",
        "np.ones(10)"
      ],
      "execution_count": 11,
      "outputs": [
        {
          "output_type": "execute_result",
          "data": {
            "text/plain": [
              "array([1., 1., 1., 1., 1., 1., 1., 1., 1., 1.])"
            ]
          },
          "metadata": {},
          "execution_count": 11
        }
      ]
    },
    {
      "cell_type": "code",
      "metadata": {
        "id": "zU9DzeFtfGJr",
        "colab": {
          "base_uri": "https://localhost:8080/"
        },
        "outputId": "36dbfa0a-82c0-4701-9572-6cbb8e46918a"
      },
      "source": [
        "# create an identity matrix\n",
        "np.identity(4)"
      ],
      "execution_count": 12,
      "outputs": [
        {
          "output_type": "execute_result",
          "data": {
            "text/plain": [
              "array([[1., 0., 0., 0.],\n",
              "       [0., 1., 0., 0.],\n",
              "       [0., 0., 1., 0.],\n",
              "       [0., 0., 0., 1.]])"
            ]
          },
          "metadata": {},
          "execution_count": 12
        }
      ]
    },
    {
      "cell_type": "code",
      "metadata": {
        "id": "bzyiFkjpfGJt",
        "colab": {
          "base_uri": "https://localhost:8080/"
        },
        "outputId": "e0b33771-7b40-4b67-a7e9-69a7bda26c65"
      },
      "source": [
        "# create an array size 1 x 9 including only even numbers starting from 2\n",
        "x = np.arange(2,20,2)\n",
        "x"
      ],
      "execution_count": 13,
      "outputs": [
        {
          "output_type": "execute_result",
          "data": {
            "text/plain": [
              "array([ 2,  4,  6,  8, 10, 12, 14, 16, 18])"
            ]
          },
          "metadata": {},
          "execution_count": 13
        }
      ]
    },
    {
      "cell_type": "code",
      "metadata": {
        "id": "Fi7yU_v3fGJw",
        "colab": {
          "base_uri": "https://localhost:8080/"
        },
        "outputId": "cbc325c5-ef69-4f6a-b5bd-c27ff04817a8"
      },
      "source": [
        "# reshape x to size 3 x 3 we get the following matrix\n",
        "\n",
        "# Variables in Python (an numpy) are objects.\n",
        "# Each object contains data (like x does), but it is also associated\n",
        "# with methods, i.e. python functions that can apply to it.\n",
        "# When we apply such an operation, we use the notation x.fname, like\n",
        "# below.\n",
        "\n",
        "x = x.reshape(3,3)\n",
        "x"
      ],
      "execution_count": 14,
      "outputs": [
        {
          "output_type": "execute_result",
          "data": {
            "text/plain": [
              "array([[ 2,  4,  6],\n",
              "       [ 8, 10, 12],\n",
              "       [14, 16, 18]])"
            ]
          },
          "metadata": {},
          "execution_count": 14
        }
      ]
    },
    {
      "cell_type": "code",
      "metadata": {
        "id": "lhwnA49lfGJy",
        "colab": {
          "base_uri": "https://localhost:8080/"
        },
        "outputId": "e80d1591-5a6c-4942-89e3-a67545b040d6"
      },
      "source": [
        "# transpose x\n",
        "y = x.T\n",
        "y"
      ],
      "execution_count": 15,
      "outputs": [
        {
          "output_type": "execute_result",
          "data": {
            "text/plain": [
              "array([[ 2,  8, 14],\n",
              "       [ 4, 10, 16],\n",
              "       [ 6, 12, 18]])"
            ]
          },
          "metadata": {},
          "execution_count": 15
        }
      ]
    },
    {
      "cell_type": "code",
      "metadata": {
        "id": "-34yj_jDfGJ0",
        "colab": {
          "base_uri": "https://localhost:8080/"
        },
        "outputId": "b7008aed-1e5d-4d62-ff44-749cda1644b6"
      },
      "source": [
        "# compare two arrays\n",
        "x == y"
      ],
      "execution_count": 16,
      "outputs": [
        {
          "output_type": "execute_result",
          "data": {
            "text/plain": [
              "array([[ True, False, False],\n",
              "       [False,  True, False],\n",
              "       [False, False,  True]])"
            ]
          },
          "metadata": {},
          "execution_count": 16
        }
      ]
    },
    {
      "cell_type": "code",
      "metadata": {
        "id": "Akbw9C1PfGJ2",
        "colab": {
          "base_uri": "https://localhost:8080/"
        },
        "outputId": "5b7fd13f-8e30-4663-e5bb-fa99d8c69920"
      },
      "source": [
        "x == y.T"
      ],
      "execution_count": 17,
      "outputs": [
        {
          "output_type": "execute_result",
          "data": {
            "text/plain": [
              "array([[ True,  True,  True],\n",
              "       [ True,  True,  True],\n",
              "       [ True,  True,  True]])"
            ]
          },
          "metadata": {},
          "execution_count": 17
        }
      ]
    },
    {
      "cell_type": "code",
      "metadata": {
        "id": "PjbS0Y8zfGJ5",
        "colab": {
          "base_uri": "https://localhost:8080/"
        },
        "outputId": "eab2c4a4-b9cf-434e-b8d8-5c98e0b3c892"
      },
      "source": [
        "np.array_equal(x,y.T)"
      ],
      "execution_count": 18,
      "outputs": [
        {
          "output_type": "execute_result",
          "data": {
            "text/plain": [
              "True"
            ]
          },
          "metadata": {},
          "execution_count": 18
        }
      ]
    },
    {
      "cell_type": "code",
      "metadata": {
        "id": "vC29JsRAfGJ7",
        "colab": {
          "base_uri": "https://localhost:8080/"
        },
        "outputId": "a3840b9c-b0cf-49d6-f6d1-0637a6ac6350"
      },
      "source": [
        "x < y"
      ],
      "execution_count": 19,
      "outputs": [
        {
          "output_type": "execute_result",
          "data": {
            "text/plain": [
              "array([[False,  True,  True],\n",
              "       [False, False,  True],\n",
              "       [False, False, False]])"
            ]
          },
          "metadata": {},
          "execution_count": 19
        }
      ]
    },
    {
      "cell_type": "code",
      "metadata": {
        "id": "9CumfUaRfGJ9",
        "colab": {
          "base_uri": "https://localhost:8080/"
        },
        "outputId": "ecadde23-ca02-4d20-c997-3a09f84333a7"
      },
      "source": [
        "c = np.ones((3,3))\n",
        "c"
      ],
      "execution_count": 20,
      "outputs": [
        {
          "output_type": "execute_result",
          "data": {
            "text/plain": [
              "array([[1., 1., 1.],\n",
              "       [1., 1., 1.],\n",
              "       [1., 1., 1.]])"
            ]
          },
          "metadata": {},
          "execution_count": 20
        }
      ]
    },
    {
      "cell_type": "code",
      "metadata": {
        "id": "8sXMycSpfGJ_",
        "colab": {
          "base_uri": "https://localhost:8080/"
        },
        "outputId": "d7b2280e-d750-4d0a-c04c-cc8600fa0785"
      },
      "source": [
        "# matrix squaring\n",
        "np.dot(c,c)\n",
        "\n",
        "# or\n",
        "np.matmul(c,c)"
      ],
      "execution_count": 21,
      "outputs": [
        {
          "output_type": "execute_result",
          "data": {
            "text/plain": [
              "array([[3., 3., 3.],\n",
              "       [3., 3., 3.],\n",
              "       [3., 3., 3.]])"
            ]
          },
          "metadata": {},
          "execution_count": 21
        }
      ]
    },
    {
      "cell_type": "code",
      "metadata": {
        "id": "phRTWOZwfGKB",
        "colab": {
          "base_uri": "https://localhost:8080/"
        },
        "outputId": "44585e6c-bbc3-4bfa-cb51-24f1dfb45569"
      },
      "source": [
        "# stacking/merging two multidimensional arrays\n",
        "x = np.arange(10).reshape(2,5)\n",
        "y = np.arange(15).reshape(3,5)\n",
        "xy = np.vstack((x,y))\n",
        "xy"
      ],
      "execution_count": 22,
      "outputs": [
        {
          "output_type": "execute_result",
          "data": {
            "text/plain": [
              "array([[ 0,  1,  2,  3,  4],\n",
              "       [ 5,  6,  7,  8,  9],\n",
              "       [ 0,  1,  2,  3,  4],\n",
              "       [ 5,  6,  7,  8,  9],\n",
              "       [10, 11, 12, 13, 14]])"
            ]
          },
          "metadata": {},
          "execution_count": 22
        }
      ]
    },
    {
      "cell_type": "code",
      "metadata": {
        "id": "pwX_qhk4fGKD",
        "colab": {
          "base_uri": "https://localhost:8080/"
        },
        "outputId": "89fd3280-31c6-4ce2-c4a6-f06ee2d8ae80"
      },
      "source": [
        "x = np.arange(10).reshape(5,2)\n",
        "y = np.arange(15).reshape(5,3)\n",
        "xy = np.hstack((x,y))\n",
        "xy"
      ],
      "execution_count": 23,
      "outputs": [
        {
          "output_type": "execute_result",
          "data": {
            "text/plain": [
              "array([[ 0,  1,  0,  1,  2],\n",
              "       [ 2,  3,  3,  4,  5],\n",
              "       [ 4,  5,  6,  7,  8],\n",
              "       [ 6,  7,  9, 10, 11],\n",
              "       [ 8,  9, 12, 13, 14]])"
            ]
          },
          "metadata": {},
          "execution_count": 23
        }
      ]
    },
    {
      "cell_type": "code",
      "metadata": {
        "id": "YCiyIn78fGKF",
        "colab": {
          "base_uri": "https://localhost:8080/"
        },
        "outputId": "6663a7c1-8f29-472d-a024-d161d8742567"
      },
      "source": [
        "# checking statistics for xy\n",
        "from scipy import stats\n",
        "stats.describe(xy)"
      ],
      "execution_count": 24,
      "outputs": [
        {
          "output_type": "execute_result",
          "data": {
            "text/plain": [
              "DescribeResult(nobs=5, minmax=(array([0, 1, 0, 1, 2]), array([ 8,  9, 12, 13, 14])), mean=array([4., 5., 6., 7., 8.]), variance=array([10. , 10. , 22.5, 22.5, 22.5]), skewness=array([0., 0., 0., 0., 0.]), kurtosis=array([-1.3, -1.3, -1.3, -1.3, -1.3]))"
            ]
          },
          "metadata": {},
          "execution_count": 24
        }
      ]
    },
    {
      "cell_type": "code",
      "metadata": {
        "id": "jhXIOt8dfGKH",
        "colab": {
          "base_uri": "https://localhost:8080/"
        },
        "outputId": "4ccfcb77-023d-4426-fb47-e90b79d26df7"
      },
      "source": [
        "# generate 20 random records, each has 3 features represented by some random number\n",
        "x = np.random.rand(20,3)\n",
        "\n",
        "# check statistics by feature for these records\n",
        "n, min_max, mean, var, skew, kurt = stats.describe(x)\n",
        "\n",
        "# observe the gather statistics\n",
        "print('''x:\\n {}\\n\\n,n:\\n {}\\n\\n, min_max:\\n {}\\n\\n, mean:\\n {}\\n\\n\n",
        ", var:\\n {}\\n\\n, skew:\\n {}\\n\\n, kurt:\\n {}\\n\\n'''.format(x, n, min_max, mean, var, skew, kurt))"
      ],
      "execution_count": 25,
      "outputs": [
        {
          "output_type": "stream",
          "name": "stdout",
          "text": [
            "x:\n",
            " [[0.78076258 0.13897249 0.94318258]\n",
            " [0.24384283 0.53387896 0.13020724]\n",
            " [0.63498958 0.01497028 0.59098208]\n",
            " [0.62876177 0.21947792 0.29471123]\n",
            " [0.16113559 0.06152833 0.21788293]\n",
            " [0.1400096  0.9954191  0.99728459]\n",
            " [0.88075413 0.72590821 0.0433951 ]\n",
            " [0.57055053 0.39362078 0.75144102]\n",
            " [0.03552073 0.37091267 0.25513707]\n",
            " [0.68859931 0.52958038 0.38043358]\n",
            " [0.00396764 0.61133031 0.23437286]\n",
            " [0.48447793 0.18387303 0.55390707]\n",
            " [0.70690954 0.39704374 0.13765405]\n",
            " [0.98564226 0.12626942 0.27329363]\n",
            " [0.01107505 0.05545203 0.53051808]\n",
            " [0.36857504 0.13430517 0.4636604 ]\n",
            " [0.34528916 0.67275027 0.43784915]\n",
            " [0.71176655 0.59105279 0.08454571]\n",
            " [0.06268799 0.24853004 0.64470244]\n",
            " [0.52547573 0.85515184 0.97223389]]\n",
            "\n",
            ",n:\n",
            " 20\n",
            "\n",
            ", min_max:\n",
            " (array([0.00396764, 0.01497028, 0.0433951 ]), array([0.98564226, 0.9954191 , 0.99728459]))\n",
            "\n",
            ", mean:\n",
            " [0.44853968 0.39300139 0.44686974]\n",
            "\n",
            "\n",
            ", var:\n",
            " [0.09546879 0.08186906 0.08835703]\n",
            "\n",
            ", skew:\n",
            " [-0.04843674  0.46254077  0.53980846]\n",
            "\n",
            ", kurt:\n",
            " [-1.23632738 -0.8284495  -0.80064605]\n",
            "\n",
            "\n"
          ]
        }
      ]
    },
    {
      "cell_type": "markdown",
      "metadata": {
        "id": "6icgEByffGKK"
      },
      "source": [
        "#### Slice and dice matrix\n",
        "\n",
        "Take out 2 elements in the 1st row, 2nd column, and 3rd row, 3rd column of matrix A from above:\n",
        "\n",
        "$\\begin{equation*}\n",
        "A =\n",
        "\\begin{pmatrix}\n",
        "1 & 2 & 3 \\\\\n",
        "4 & 5 & 6 \\\\\n",
        "7 & 8 & 9\n",
        "\\end{pmatrix}\n",
        "\\end{equation*}\n",
        "$"
      ]
    },
    {
      "cell_type": "code",
      "metadata": {
        "id": "7R8ypS2zfGKN",
        "colab": {
          "base_uri": "https://localhost:8080/"
        },
        "outputId": "5ce150a5-7442-4bfc-8699-f7270928a896"
      },
      "source": [
        "# numpy is indexed from 0. Slice by row and then by column\n",
        "A[[0,2],[1,2]]"
      ],
      "execution_count": 26,
      "outputs": [
        {
          "output_type": "execute_result",
          "data": {
            "text/plain": [
              "array([2., 9.])"
            ]
          },
          "metadata": {},
          "execution_count": 26
        }
      ]
    },
    {
      "cell_type": "markdown",
      "metadata": {
        "id": "BfRzbPUXfGKQ"
      },
      "source": [
        "#### Resize and reshape matrix\n",
        "The matrix will be truncated or element values will be repeated if the reshape causes the matrix to change size."
      ]
    },
    {
      "cell_type": "code",
      "metadata": {
        "id": "_YNyARm1fGKQ",
        "colab": {
          "base_uri": "https://localhost:8080/"
        },
        "outputId": "d7dd248a-1b15-4288-9c95-c7ccb8c25ad9"
      },
      "source": [
        "x = (np.arange(9)+1).reshape(3,3)\n",
        "print(x)\n",
        "print('\\nresize smaller\\n {}'.format(np.resize(x,(2,2))))\n",
        "print('\\nresize bigger\\n {}'.format(np.resize(x,(4,4))))"
      ],
      "execution_count": 27,
      "outputs": [
        {
          "output_type": "stream",
          "name": "stdout",
          "text": [
            "[[1 2 3]\n",
            " [4 5 6]\n",
            " [7 8 9]]\n",
            "\n",
            "resize smaller\n",
            " [[1 2]\n",
            " [3 4]]\n",
            "\n",
            "resize bigger\n",
            " [[1 2 3 4]\n",
            " [5 6 7 8]\n",
            " [9 1 2 3]\n",
            " [4 5 6 7]]\n"
          ]
        }
      ]
    },
    {
      "cell_type": "markdown",
      "metadata": {
        "id": "bdtCXeGxfGKS"
      },
      "source": [
        "#### Multiplying two matrices\n",
        "An 1-dimensional array is treated as a vector."
      ]
    },
    {
      "cell_type": "code",
      "metadata": {
        "id": "YOFS8ioofGKT",
        "colab": {
          "base_uri": "https://localhost:8080/"
        },
        "outputId": "623a675a-da69-4c98-f732-4f27b2bef8da"
      },
      "source": [
        "# a vector/array y\n",
        "y = np.arange(4)\n",
        "y"
      ],
      "execution_count": 28,
      "outputs": [
        {
          "output_type": "execute_result",
          "data": {
            "text/plain": [
              "array([0, 1, 2, 3])"
            ]
          },
          "metadata": {},
          "execution_count": 28
        }
      ]
    },
    {
      "cell_type": "code",
      "metadata": {
        "id": "mEWuYjlxfGKV",
        "colab": {
          "base_uri": "https://localhost:8080/"
        },
        "outputId": "902d0227-04bd-47b1-dfcb-1c260a623487"
      },
      "source": [
        "# a matrix of ones\n",
        "x = np.ones(16).reshape(4,4)\n",
        "x"
      ],
      "execution_count": 29,
      "outputs": [
        {
          "output_type": "execute_result",
          "data": {
            "text/plain": [
              "array([[1., 1., 1., 1.],\n",
              "       [1., 1., 1., 1.],\n",
              "       [1., 1., 1., 1.],\n",
              "       [1., 1., 1., 1.]])"
            ]
          },
          "metadata": {},
          "execution_count": 29
        }
      ]
    },
    {
      "cell_type": "code",
      "metadata": {
        "id": "d0707PxPfGKX",
        "colab": {
          "base_uri": "https://localhost:8080/"
        },
        "outputId": "52b89d7e-a2f3-491b-8506-c60edb60ba21"
      },
      "source": [
        "x*y"
      ],
      "execution_count": 30,
      "outputs": [
        {
          "output_type": "execute_result",
          "data": {
            "text/plain": [
              "array([[0., 1., 2., 3.],\n",
              "       [0., 1., 2., 3.],\n",
              "       [0., 1., 2., 3.],\n",
              "       [0., 1., 2., 3.]])"
            ]
          },
          "metadata": {},
          "execution_count": 30
        }
      ]
    },
    {
      "cell_type": "code",
      "metadata": {
        "id": "EJPYn6rEfGKZ",
        "colab": {
          "base_uri": "https://localhost:8080/"
        },
        "outputId": "d17dc812-e2aa-447f-fde9-742ee6bf2f29"
      },
      "source": [
        "x*y.T   # interpreted as x*(y.T)"
      ],
      "execution_count": 31,
      "outputs": [
        {
          "output_type": "execute_result",
          "data": {
            "text/plain": [
              "array([[0., 1., 2., 3.],\n",
              "       [0., 1., 2., 3.],\n",
              "       [0., 1., 2., 3.],\n",
              "       [0., 1., 2., 3.]])"
            ]
          },
          "metadata": {},
          "execution_count": 31
        }
      ]
    },
    {
      "cell_type": "code",
      "metadata": {
        "id": "Tsl6MbI2fGKc",
        "colab": {
          "base_uri": "https://localhost:8080/"
        },
        "outputId": "2661bee4-6ada-478e-afe6-3926ffe24fb4"
      },
      "source": [
        "y*x"
      ],
      "execution_count": 32,
      "outputs": [
        {
          "output_type": "execute_result",
          "data": {
            "text/plain": [
              "array([[0., 1., 2., 3.],\n",
              "       [0., 1., 2., 3.],\n",
              "       [0., 1., 2., 3.],\n",
              "       [0., 1., 2., 3.]])"
            ]
          },
          "metadata": {},
          "execution_count": 32
        }
      ]
    },
    {
      "cell_type": "code",
      "metadata": {
        "id": "fNTRR8DwfGKe",
        "colab": {
          "base_uri": "https://localhost:8080/"
        },
        "outputId": "be538cde-e895-44fc-e68d-480acd72ad89"
      },
      "source": [
        "y.T*x"
      ],
      "execution_count": 33,
      "outputs": [
        {
          "output_type": "execute_result",
          "data": {
            "text/plain": [
              "array([[0., 1., 2., 3.],\n",
              "       [0., 1., 2., 3.],\n",
              "       [0., 1., 2., 3.],\n",
              "       [0., 1., 2., 3.]])"
            ]
          },
          "metadata": {},
          "execution_count": 33
        }
      ]
    },
    {
      "cell_type": "code",
      "metadata": {
        "id": "vi5kt5OufGKg",
        "colab": {
          "base_uri": "https://localhost:8080/"
        },
        "outputId": "174800b9-c49e-424d-d070-d8441b85d567"
      },
      "source": [
        "x = np.arange(4).reshape(2,2)\n",
        "y1 = np.arange(2)\n",
        "y2 = np.arange(2).reshape(1,2) # in numpy this is the same as y1\n",
        "print('x:\\n{}\\n'.format(x))\n",
        "print('y1:\\n{}\\n'.format(y1))\n",
        "print('y2:\\n{}\\n'.format(y2))"
      ],
      "execution_count": 34,
      "outputs": [
        {
          "output_type": "stream",
          "name": "stdout",
          "text": [
            "x:\n",
            "[[0 1]\n",
            " [2 3]]\n",
            "\n",
            "y1:\n",
            "[0 1]\n",
            "\n",
            "y2:\n",
            "[[0 1]]\n",
            "\n"
          ]
        }
      ]
    },
    {
      "cell_type": "code",
      "metadata": {
        "id": "-1k0CFOIfGKi",
        "colab": {
          "base_uri": "https://localhost:8080/"
        },
        "outputId": "af2a2604-0968-4f3c-c262-330f8e8cb701"
      },
      "source": [
        "x*y1"
      ],
      "execution_count": 35,
      "outputs": [
        {
          "output_type": "execute_result",
          "data": {
            "text/plain": [
              "array([[0, 1],\n",
              "       [0, 3]])"
            ]
          },
          "metadata": {},
          "execution_count": 35
        }
      ]
    },
    {
      "cell_type": "code",
      "metadata": {
        "id": "EW90NQ6nfGKk",
        "colab": {
          "base_uri": "https://localhost:8080/"
        },
        "outputId": "f6103286-2b65-489a-868f-58425a3ae14d"
      },
      "source": [
        "x*y2"
      ],
      "execution_count": 36,
      "outputs": [
        {
          "output_type": "execute_result",
          "data": {
            "text/plain": [
              "array([[0, 1],\n",
              "       [0, 3]])"
            ]
          },
          "metadata": {},
          "execution_count": 36
        }
      ]
    },
    {
      "cell_type": "code",
      "metadata": {
        "id": "ban5G53YfGKm",
        "colab": {
          "base_uri": "https://localhost:8080/"
        },
        "outputId": "19ba04fc-8a48-4b6b-ed8b-ce85d7f46036"
      },
      "source": [
        "# generate two matrices\n",
        "a = np.arange(10).reshape(2,5)\n",
        "b = np.arange(15).reshape(5,3)\n",
        "print(a)\n",
        "print()\n",
        "print(b)"
      ],
      "execution_count": 37,
      "outputs": [
        {
          "output_type": "stream",
          "name": "stdout",
          "text": [
            "[[0 1 2 3 4]\n",
            " [5 6 7 8 9]]\n",
            "\n",
            "[[ 0  1  2]\n",
            " [ 3  4  5]\n",
            " [ 6  7  8]\n",
            " [ 9 10 11]\n",
            " [12 13 14]]\n"
          ]
        }
      ]
    },
    {
      "cell_type": "code",
      "metadata": {
        "id": "iXVjcn_ffGKp",
        "colab": {
          "base_uri": "https://localhost:8080/"
        },
        "outputId": "7dbd25a2-4a64-4605-8e5e-870ab826a171"
      },
      "source": [
        "# check if operation dot is equal to operation matmul\n",
        "np.array_equal(np.dot(a,b),np.matmul(a,b))"
      ],
      "execution_count": 38,
      "outputs": [
        {
          "output_type": "execute_result",
          "data": {
            "text/plain": [
              "True"
            ]
          },
          "metadata": {},
          "execution_count": 38
        }
      ]
    },
    {
      "cell_type": "code",
      "metadata": {
        "id": "M31vWN03fGKs",
        "colab": {
          "base_uri": "https://localhost:8080/"
        },
        "outputId": "50dfb252-0922-485c-dac2-37ec067e2059"
      },
      "source": [
        "# multiply a by b\n",
        "np.matmul(a,b)"
      ],
      "execution_count": 39,
      "outputs": [
        {
          "output_type": "execute_result",
          "data": {
            "text/plain": [
              "array([[ 90, 100, 110],\n",
              "       [240, 275, 310]])"
            ]
          },
          "metadata": {},
          "execution_count": 39
        }
      ]
    },
    {
      "cell_type": "code",
      "metadata": {
        "id": "4jhyA0VYfGKv",
        "colab": {
          "base_uri": "https://localhost:8080/"
        },
        "outputId": "5fde8699-1906-44e4-d75d-0fdb5e77b995"
      },
      "source": [
        "# another way to multiply a by b\n",
        "a@b"
      ],
      "execution_count": 40,
      "outputs": [
        {
          "output_type": "execute_result",
          "data": {
            "text/plain": [
              "array([[ 90, 100, 110],\n",
              "       [240, 275, 310]])"
            ]
          },
          "metadata": {},
          "execution_count": 40
        }
      ]
    },
    {
      "cell_type": "code",
      "metadata": {
        "id": "HbJu-_fLfGK0",
        "colab": {
          "base_uri": "https://localhost:8080/"
        },
        "outputId": "8f15d7bc-a40d-4c3d-ae19-5fdcf0d365bd"
      },
      "source": [
        "a = np.arange(9).reshape(3,3)\n",
        "b = np.arange(3)\n",
        "print('{}\\n\\n{}'.format(a,b))"
      ],
      "execution_count": 41,
      "outputs": [
        {
          "output_type": "stream",
          "name": "stdout",
          "text": [
            "[[0 1 2]\n",
            " [3 4 5]\n",
            " [6 7 8]]\n",
            "\n",
            "[0 1 2]\n"
          ]
        }
      ]
    },
    {
      "cell_type": "markdown",
      "source": [],
      "metadata": {
        "id": "YPBSDrhA2YiN"
      }
    },
    {
      "cell_type": "code",
      "metadata": {
        "id": "2Cxjq5WFfGK4",
        "colab": {
          "base_uri": "https://localhost:8080/"
        },
        "outputId": "e0d26704-6188-4d9b-adcf-99bd8c297750"
      },
      "source": [
        "# inner product of 2 vectors\n",
        "np.inner(a,b)"
      ],
      "execution_count": 42,
      "outputs": [
        {
          "output_type": "execute_result",
          "data": {
            "text/plain": [
              "array([ 5, 14, 23])"
            ]
          },
          "metadata": {},
          "execution_count": 42
        }
      ]
    },
    {
      "cell_type": "markdown",
      "source": [
        "Algebraically, the inner product of two vectors is a mathematical operation that takes two equal-length sequences of numbers (usually real numbers) and returns a single scalar. The inner product is often denoted by a dot product symbol (\\(\\cdot\\)) or by enclosing the vectors in angle brackets (\\(\\langle \\cdot, \\cdot \\rangle\\)).\n",
        "\n",
        "For two vectors \\(A = [a_1, a_2, \\ldots, a_n]\\) and \\(B = [b_1, b_2, \\ldots, b_n]\\), their inner product is given by:\n",
        "\n",
        "\\[ A \\cdot B = \\sum_{i=1}^{n} a_i \\cdot b_i \\]\n",
        "\n",
        "In the context of linear algebra, the inner product is also sometimes called the dot product. It is a measure of the similarity between two vectors and is used in various mathematical and scientific applications.\n",
        "\n",
        "For example, if \\(A = [1, 2, 3]\\) and \\(B = [4, 5, 6]\\), their inner product is:\n",
        "\n",
        "\\[ A \\cdot B = (1 \\cdot 4) + (2 \\cdot 5) + (3 \\cdot 6) = 32 \\]\n",
        "\n",
        "The inner product has several important properties, such as being commutative (\\(A \\cdot B = B \\cdot A\\)), distributive over vector addition (\\(A \\cdot (B + C) = A \\cdot B + A \\cdot C\\)), and others, making it a fundamental concept in linear algebra and functional analysis."
      ],
      "metadata": {
        "id": "6oH-EPWp2Z3Z"
      }
    },
    {
      "cell_type": "code",
      "metadata": {
        "id": "AuSfLhm2fGK8",
        "colab": {
          "base_uri": "https://localhost:8080/"
        },
        "outputId": "5e53bdcc-9dc4-44b2-e169-e8678f06d5e7"
      },
      "source": [
        "# outer product of 2 vectors\n",
        "np.outer(a,b)"
      ],
      "execution_count": 43,
      "outputs": [
        {
          "output_type": "execute_result",
          "data": {
            "text/plain": [
              "array([[ 0,  0,  0],\n",
              "       [ 0,  1,  2],\n",
              "       [ 0,  2,  4],\n",
              "       [ 0,  3,  6],\n",
              "       [ 0,  4,  8],\n",
              "       [ 0,  5, 10],\n",
              "       [ 0,  6, 12],\n",
              "       [ 0,  7, 14],\n",
              "       [ 0,  8, 16]])"
            ]
          },
          "metadata": {},
          "execution_count": 43
        }
      ]
    },
    {
      "cell_type": "markdown",
      "source": [
        "The outer product is another mathematical operation involving vectors, but it results in a matrix rather than a scalar. Given two vectors \\(A = [a_1, a_2, \\ldots, a_m]\\) and \\(B = [b_1, b_2, \\ldots, b_n]\\), their outer product is denoted by \\(A \\otimes B\\) and produces an \\(m \\times n\\) matrix.\n",
        "\n",
        "The outer product is calculated as follows:\n",
        "\n",
        "\\[ A \\otimes B = \\begin{bmatrix} a_1 \\cdot b_1 & a_1 \\cdot b_2 & \\ldots & a_1 \\cdot b_n \\\\ a_2 \\cdot b_1 & a_2 \\cdot b_2 & \\ldots & a_2 \\cdot b_n \\\\ \\vdots & \\vdots & \\ddots & \\vdots \\\\ a_m \\cdot b_1 & a_m \\cdot b_2 & \\ldots & a_m \\cdot b_n \\end{bmatrix} \\]\n",
        "\n",
        "The resulting matrix has elements where each element \\(i, j\\) is the product of the \\(i\\)-th element of vector \\(A\\) and the \\(j\\)-th element of vector \\(B\\).\n",
        "\n",
        "For example, if \\(A = [1, 2]\\) and \\(B = [3, 4, 5]\\), their outer product would be:\n",
        "\n",
        "\\[ A \\otimes B = \\begin{bmatrix} 1 \\cdot 3 & 1 \\cdot 4 & 1 \\cdot 5 \\\\ 2 \\cdot 3 & 2 \\cdot 4 & 2 \\cdot 5 \\end{bmatrix} = \\begin{bmatrix} 3 & 4 & 5 \\\\ 6 & 8 & 10 \\end{bmatrix} \\]\n",
        "\n",
        "The outer product is useful in various mathematical and computational contexts, such as in the definition of tensors, and it is a key operation in linear algebra."
      ],
      "metadata": {
        "id": "kWjJZiuo2mBZ"
      }
    },
    {
      "cell_type": "markdown",
      "metadata": {
        "id": "bQda4F4EfGK_"
      },
      "source": [
        "#### Solving linear equations\n",
        "An example: Solve three linear equations with 3 unknowns as follows:<br>\n",
        "$x_1 + 2x_2 + 3x_3 = 10$<br>\n",
        "$4x_1 + 4x_2 + 5x_3=4$<br>\n",
        "$3x_1 + 8x_2 + 9x_3 = 3$<br>\n",
        "\n",
        "We have a linear equation to solve as in the form $Ax = B$, where\n",
        "\\begin{equation*}\n",
        "A =\n",
        "\\begin{pmatrix}\n",
        "1 & 2 & 3 \\\\\n",
        "4 & 4 & 5 \\\\\n",
        "3 & 8 & 9\n",
        "\\end{pmatrix}\n",
        ",\n",
        "B =\n",
        "\\begin{pmatrix}\n",
        "10 \\\\\n",
        "4 \\\\\n",
        "3\n",
        "\\end{pmatrix}\n",
        ",\n",
        "x =\n",
        "\\begin{pmatrix}\n",
        "x_1 \\\\\n",
        "x_2 \\\\\n",
        "x_3\n",
        "\\end{pmatrix}\n",
        "\\end{equation*}\n",
        "\n",
        "<br>\n",
        "In simple cases with small matrices, we can do $x = A^{-1}B$."
      ]
    },
    {
      "cell_type": "code",
      "metadata": {
        "id": "PLS1GVLMfGLA",
        "colab": {
          "base_uri": "https://localhost:8080/"
        },
        "outputId": "7300aadd-0e67-48a4-8d6a-e4f8757c8b95"
      },
      "source": [
        "A = np.array([[1,2,3],[4,4,5],[3,8,9]])\n",
        "B = np.array([10,4,3])\n",
        "A_inv = np.linalg.inv(A)\n",
        "A_inv"
      ],
      "execution_count": 44,
      "outputs": [
        {
          "output_type": "execute_result",
          "data": {
            "text/plain": [
              "array([[-2.85714286e-01,  4.28571429e-01, -1.42857143e-01],\n",
              "       [-1.50000000e+00, -6.66133815e-17,  5.00000000e-01],\n",
              "       [ 1.42857143e+00, -1.42857143e-01, -2.85714286e-01]])"
            ]
          },
          "metadata": {},
          "execution_count": 44
        }
      ]
    },
    {
      "cell_type": "code",
      "metadata": {
        "id": "2_Rev7MEfGLC"
      },
      "source": [
        "x = np.dot(A_inv, B)"
      ],
      "execution_count": 45,
      "outputs": []
    },
    {
      "cell_type": "code",
      "metadata": {
        "id": "e-oPmxrSfGLF",
        "colab": {
          "base_uri": "https://localhost:8080/"
        },
        "outputId": "4ee50377-59e5-44f0-cae8-1bf83e9ae470"
      },
      "source": [
        "# check results with allclose() function)\n",
        "np.allclose(np.dot(A,x),B)"
      ],
      "execution_count": 46,
      "outputs": [
        {
          "output_type": "execute_result",
          "data": {
            "text/plain": [
              "True"
            ]
          },
          "metadata": {},
          "execution_count": 46
        }
      ]
    },
    {
      "cell_type": "markdown",
      "metadata": {
        "id": "Vbt-t8rpEP7R"
      },
      "source": [
        "-----"
      ]
    },
    {
      "cell_type": "markdown",
      "metadata": {
        "id": "77y-VVzxfGLH"
      },
      "source": [
        "\n",
        "## <font color='#008DFF'> **Question 1**\n",
        "\n",
        "Write code for solving four linear equations with 4 unknowns as follows:<br>\n",
        "$x_1 + 2x_2 + 3x_3 + 5x_4 = 10$<br>\n",
        "$4x_1 + 4x_2 + 5x_3 + 3x_4=4$<br>\n",
        "$3x_1 + 8x_2 + 9x_3 + x_4= 3$<br>\n",
        "$x_1 + x_2 + 3x_3 = 7$<br><br>\n",
        "\n",
        "Afterwards, check results with allclose( ) function, and print out x.\n",
        "\n",
        "<b>Expected result</b><br>x = array([-1.17857143, -3.875     ,  4.01785714,  1.375     ])\n"
      ]
    },
    {
      "cell_type": "code",
      "metadata": {
        "id": "A0wIhEbW04b7",
        "colab": {
          "base_uri": "https://localhost:8080/"
        },
        "outputId": "1846a39f-da7c-40c2-90e8-7528d9750f7f"
      },
      "source": [
        "# your code here\n",
        "A = np.array([[1, 2, 3, 5],[4, 4, 5, 3], [3, 8, 9, 1], [1, 1, 3, 0]])\n",
        "B = np.array([10, 4, 3, 7])\n",
        "A_inv = np.linalg.inv(A)\n",
        "\n",
        "x = np.dot(A_inv, B)\n",
        "\n",
        "#checking with allclose() function\n",
        "print(np.allclose(np.dot(A,x),B))\n",
        "\n",
        "x"
      ],
      "execution_count": 47,
      "outputs": [
        {
          "output_type": "stream",
          "name": "stdout",
          "text": [
            "True\n"
          ]
        },
        {
          "output_type": "execute_result",
          "data": {
            "text/plain": [
              "array([-1.17857143, -3.875     ,  4.01785714,  1.375     ])"
            ]
          },
          "metadata": {},
          "execution_count": 47
        }
      ]
    },
    {
      "cell_type": "code",
      "source": [
        "# Grader's area\n",
        "#\n",
        "# Here we have only part, so this grade is assigned in M[1,1]\n",
        "# assign the grade and then uncomment the following\n",
        "\n",
        "# M[1,1] =\n",
        "\n",
        "maxScore = maxScore +4;"
      ],
      "metadata": {
        "id": "77c5jSREdt9K"
      },
      "execution_count": 48,
      "outputs": []
    },
    {
      "cell_type": "markdown",
      "source": [
        "-----------------\n",
        "-----------------\n",
        "-----------------\n",
        "-----------------"
      ],
      "metadata": {
        "id": "DKD1e5IvkXJz"
      }
    },
    {
      "cell_type": "markdown",
      "metadata": {
        "id": "hH8NLj_UfGLK"
      },
      "source": [
        "## **Part 2: Exploring some data**"
      ]
    },
    {
      "cell_type": "markdown",
      "source": [
        "In this exercise we will be using the 'Boston Housing' dataset. This is an infamous dataset, due to one of its data attributes being the percentage of Black inhabitants of a given town. This dataset has now been removed from official distributions of certain tools (including scikit-learn), but it is still around to remind us how human learned bias can enter Machine Learning pipelines and have unintended (or in some cases, horribly intended) consequences."
      ],
      "metadata": {
        "id": "Wq8IS0kDeOLz"
      }
    },
    {
      "cell_type": "code",
      "metadata": {
        "id": "yJ9yDB9ufGLL"
      },
      "source": [
        "# Boston Housing dataset is no longer available in scikit-learn as of version 1.2\n",
        "# Reading directly using the source URL, with the description omitted.\n",
        "# For more information, view the original source file.\n",
        "\n",
        "# Deprecated scikit-learn 1.1 version:\n",
        "#\n",
        "# from sklearn.datasets import load_boston\n",
        "# ds = load_boston()\n",
        "# samples, label, feature_names = ds.data, ds.target, ds.feature_names\n",
        "# print(samples.shape)\n",
        "# print(feature_names)\n",
        "\n",
        "import pandas as pd\n",
        "import numpy as np\n",
        "\n",
        "data_url = \"http://lib.stat.cmu.edu/datasets/boston\"\n",
        "ds = pd.read_csv(data_url, sep=\"\\s+\", skiprows=22, header=None)\n",
        "samples = np.hstack([ds.values[::2, :], ds.values[1::2, :2]])\n",
        "label = ds.values[1::2, 2]"
      ],
      "execution_count": 49,
      "outputs": []
    },
    {
      "cell_type": "code",
      "metadata": {
        "id": "635Xsy-CfGLO",
        "colab": {
          "base_uri": "https://localhost:8080/"
        },
        "outputId": "c4326112-03de-409a-af20-df6ea2b9411e"
      },
      "source": [
        "# Data description\n",
        "\n",
        "# Deprecated scikit-learn 1.1 version:\n",
        "#\n",
        "# print(ds.DESCR)\n",
        "\n",
        "import requests\n",
        "\n",
        "lines = requests.get(data_url).text.splitlines()\n",
        "for i, line in enumerate(lines[:22]):\n",
        "    print(line)"
      ],
      "execution_count": 50,
      "outputs": [
        {
          "output_type": "stream",
          "name": "stdout",
          "text": [
            " The Boston house-price data of Harrison, D. and Rubinfeld, D.L. 'Hedonic\n",
            " prices and the demand for clean air', J. Environ. Economics & Management,\n",
            " vol.5, 81-102, 1978.   Used in Belsley, Kuh & Welsch, 'Regression diagnostics\n",
            " ...', Wiley, 1980.   N.B. Various transformations are used in the table on\n",
            " pages 244-261 of the latter.\n",
            "\n",
            " Variables in order:\n",
            " CRIM     per capita crime rate by town\n",
            " ZN       proportion of residential land zoned for lots over 25,000 sq.ft.\n",
            " INDUS    proportion of non-retail business acres per town\n",
            " CHAS     Charles River dummy variable (= 1 if tract bounds river; 0 otherwise)\n",
            " NOX      nitric oxides concentration (parts per 10 million)\n",
            " RM       average number of rooms per dwelling\n",
            " AGE      proportion of owner-occupied units built prior to 1940\n",
            " DIS      weighted distances to five Boston employment centres\n",
            " RAD      index of accessibility to radial highways\n",
            " TAX      full-value property-tax rate per $10,000\n",
            " PTRATIO  pupil-teacher ratio by town\n",
            " B        1000(Bk - 0.63)^2 where Bk is the proportion of blacks by town\n",
            " LSTAT    % lower status of the population\n",
            " MEDV     Median value of owner-occupied homes in $1000's\n",
            "\n"
          ]
        }
      ]
    },
    {
      "cell_type": "code",
      "metadata": {
        "id": "rR8jIWSafGLR",
        "colab": {
          "base_uri": "https://localhost:8080/"
        },
        "outputId": "2f3dca47-d7f3-40f2-b7cf-426d33d63db7"
      },
      "source": [
        "# check to see if there is any null data\n",
        "np.isnan(np.sum(samples))"
      ],
      "execution_count": 51,
      "outputs": [
        {
          "output_type": "execute_result",
          "data": {
            "text/plain": [
              "False"
            ]
          },
          "metadata": {},
          "execution_count": 51
        }
      ]
    },
    {
      "cell_type": "code",
      "metadata": {
        "id": "QMjtimPhfGLT"
      },
      "source": [
        "# set print options to make things look nicer\n",
        "np.set_printoptions(suppress=True, linewidth=125)"
      ],
      "execution_count": 52,
      "outputs": []
    },
    {
      "cell_type": "code",
      "metadata": {
        "id": "hwXoQA_rfGLY",
        "colab": {
          "base_uri": "https://localhost:8080/"
        },
        "outputId": "8a3e8d71-16e7-4658-a454-09b3c978c408"
      },
      "source": [
        "# find median, variance of the data and put it out in nice looking format\n",
        "median = np.round(np.median(samples, axis=0), decimals=1)\n",
        "variance = np.round(np.var(samples, axis=0), decimals=1)\n",
        "basic_stats = np.vstack((median, variance))\n",
        "basic_stats_label = ['  median','variance']\n",
        "print('\\t\\tCRIM\\tZN\\tINDUS\\tCHAS\\tNOX\\tRM\\tAGE\\tDIS\\tRAD\\tTAX\\tPTRATIO\\tB\\tLSTAT')\n",
        "for basic_stats_label, row in zip(basic_stats_label, basic_stats):\n",
        "    print('{} [\\t{}]'.format(basic_stats_label,\"\".join('%s\\t'%i for i in row)))"
      ],
      "execution_count": 53,
      "outputs": [
        {
          "output_type": "stream",
          "name": "stdout",
          "text": [
            "\t\tCRIM\tZN\tINDUS\tCHAS\tNOX\tRM\tAGE\tDIS\tRAD\tTAX\tPTRATIO\tB\tLSTAT\n",
            "  median [\t0.3\t0.0\t9.7\t0.0\t0.5\t6.2\t77.5\t3.2\t5.0\t330.0\t19.0\t391.4\t11.4\t]\n",
            "variance [\t73.8\t542.9\t47.0\t0.1\t0.0\t0.5\t790.8\t4.4\t75.7\t28348.6\t4.7\t8318.3\t50.9\t]\n"
          ]
        }
      ]
    },
    {
      "cell_type": "markdown",
      "metadata": {
        "id": "VS5mKl2lfGLb"
      },
      "source": [
        "## <font color='#008DFF'>  **Question 2**\n",
        "\n",
        "Use function <code>stats.describe</code> to retrieve the max, min, and average of samples, and then display it as in the expected output: <br><br>\n",
        "\n",
        "<b>Expected Output:</b> Something that looks like the following or better: <br>\n",
        "<code>\t CRIM\tZN\tINDUS\tCHAS\tNOX\tRM\tAGE\tDIS\tRAD\tTAX\tPTRATIO\tB\tLSTAT\n",
        " min [\t0.0\t0.0\t0.5\t0.0\t0.4\t3.6\t2.9\t1.1\t1.0\t187.0\t12.6\t0.3\t1.7\t]\n",
        " max [\t89.0\t100.0\t27.7\t1.0\t0.9\t8.8\t100.0\t12.1\t24.0\t711.0\t22.0\t396.9\t38.0\t]\n",
        "mean [\t3.6\t11.4\t11.1\t0.1\t0.6\t6.3\t68.6\t3.8\t9.5\t408.2\t18.5\t356.7\t12.7\t]\n",
        "</code>\n",
        "\n",
        "<b>Answer</b>:"
      ]
    },
    {
      "cell_type": "code",
      "metadata": {
        "id": "OkNtSOsIfGLb",
        "colab": {
          "base_uri": "https://localhost:8080/"
        },
        "outputId": "8311a2e7-5806-4b80-c197-b0860a370f59"
      },
      "source": [
        "# Your code here. Add more cells if needed\n",
        "\n",
        "n, min_max, mean, var, skew, kurt = stats.describe(samples)\n",
        "min = np.round(min_max[0], decimals=1)\n",
        "max = np.round(min_max[1], decimals=1)\n",
        "mean = np.round(mean, decimals=1)\n",
        "stats_value = np.vstack((min, max, mean))\n",
        "stats_label = ['min','max','mean']\n",
        "\n",
        "# observe the gather statistics\n",
        "print('\\tCRIM\\tZN\\tINDUS\\tCHAS\\tNOX\\tRM\\tAGE\\tDIS\\tRAD\\tTAX\\tPTRATIO\\tB\\tLSTAT')\n",
        "for stats_label, row in zip(stats_label, stats_value):\n",
        "    print('{} [\\t{}]'.format(stats_label,\"\".join('%s\\t'%i for i in row)))\n",
        "\n",
        "\n",
        "\n",
        "\n",
        "\n",
        "\n",
        "\n"
      ],
      "execution_count": 54,
      "outputs": [
        {
          "output_type": "stream",
          "name": "stdout",
          "text": [
            "\tCRIM\tZN\tINDUS\tCHAS\tNOX\tRM\tAGE\tDIS\tRAD\tTAX\tPTRATIO\tB\tLSTAT\n",
            "min [\t0.0\t0.0\t0.5\t0.0\t0.4\t3.6\t2.9\t1.1\t1.0\t187.0\t12.6\t0.3\t1.7\t]\n",
            "max [\t89.0\t100.0\t27.7\t1.0\t0.9\t8.8\t100.0\t12.1\t24.0\t711.0\t22.0\t396.9\t38.0\t]\n",
            "mean [\t3.6\t11.4\t11.1\t0.1\t0.6\t6.3\t68.6\t3.8\t9.5\t408.2\t18.5\t356.7\t12.7\t]\n"
          ]
        }
      ]
    },
    {
      "cell_type": "code",
      "source": [
        "# Grader's area\n",
        "\n",
        "maxScore = maxScore + 4\n",
        "# M[2,1] ="
      ],
      "metadata": {
        "id": "zPnHTf9MfT5X"
      },
      "execution_count": 55,
      "outputs": []
    },
    {
      "cell_type": "markdown",
      "metadata": {
        "id": "l3KaR1wZyRgK"
      },
      "source": [
        "-----------------\n",
        "-----------------\n",
        "-----------------\n",
        "-----------------"
      ]
    },
    {
      "cell_type": "code",
      "metadata": {
        "id": "FzOg-yJwfGLe",
        "colab": {
          "base_uri": "https://localhost:8080/",
          "height": 537
        },
        "outputId": "c2c5ff70-7a0c-449f-f0ea-aa3c4c69d97b"
      },
      "source": [
        "import matplotlib.pyplot as plt\n",
        "\n",
        "# let plot out to see what is the distribution of crime based on the data\n",
        "n, bins, patches = plt.hist(samples[:,0],bins='auto')\n",
        "plt.title('Distribution of crimes')\n",
        "plt.show()\n",
        "print('Bin sizes: {}'.format(n))"
      ],
      "execution_count": 56,
      "outputs": [
        {
          "output_type": "display_data",
          "data": {
            "text/plain": [
              "<Figure size 640x480 with 1 Axes>"
            ],
            "image/png": "[encoded data removed]"
          },
          "metadata": {}
        },
        {
          "output_type": "stream",
          "name": "stdout",
          "text": [
            "Bin sizes: [329.  26.  14.   9.  13.  12.  11.   9.   8.   9.   9.   6.   5.   4.   3.   7.   4.   4.   1.   1.   3.   1.   1.   1.\n",
            "   1.   1.   1.   3.   1.   0.   0.   1.   0.   0.   0.   0.   0.   0.   0.   0.   0.   1.   1.   0.   0.   0.   1.   0.\n",
            "   0.   0.   1.   0.   0.   0.   0.   0.   1.   0.   0.   0.   0.   0.   0.   0.   0.   0.   0.   0.   0.   0.   0.   0.\n",
            "   0.   0.   0.   1.   0.   0.   0.   0.   0.   1.   0.   0.   0.   0.   0.   0.   0.   0.   0.   0.   0.   0.   0.   0.\n",
            "   0.   0.   1.]\n"
          ]
        }
      ]
    },
    {
      "cell_type": "markdown",
      "metadata": {
        "id": "53VG7TETfGLg"
      },
      "source": [
        "\n",
        "## <font color='#008DFF'> <b>Question 3</b>\n",
        "\n",
        "Plot out the histogram of another feature of the dataset that you are interested in, give the plot a title, and print out the bin sizes. <br><br>\n",
        "<b>Answer</b>"
      ]
    },
    {
      "cell_type": "code",
      "metadata": {
        "id": "MALZsy3AfGLg",
        "colab": {
          "base_uri": "https://localhost:8080/",
          "height": 469
        },
        "outputId": "6fc6e036-b516-4717-8bdb-7bfa342234f1"
      },
      "source": [
        "# Your code here, add more cells if necessary\n",
        "\n",
        "n, bins, patches = plt.hist(samples[:,5],bins='auto')\n",
        "plt.title('Distribution of Average number of rooms per dwelling')\n",
        "plt.show()\n",
        "print('Bin sizes: {}'.format(n))\n",
        "\n",
        "\n",
        "\n",
        "\n",
        "\n",
        "\n",
        "\n"
      ],
      "execution_count": 57,
      "outputs": [
        {
          "output_type": "display_data",
          "data": {
            "text/plain": [
              "<Figure size 640x480 with 1 Axes>"
            ],
            "image/png": "[encoded data removed]"
          },
          "metadata": {}
        },
        {
          "output_type": "stream",
          "name": "stdout",
          "text": [
            "Bin sizes: [ 1.  1.  0.  2.  1.  2.  1.  8.  5.  7. 17. 34. 56. 65. 75. 62. 42. 35. 26. 16. 15.  9.  4.  7.  4.  1.  7.  0.  3.]\n"
          ]
        }
      ]
    },
    {
      "cell_type": "code",
      "source": [
        "# Grader's area\n",
        "\n",
        "maxScore = maxScore+4\n",
        "# M[3,1] ="
      ],
      "metadata": {
        "id": "rGw6wsAfkHzL"
      },
      "execution_count": 58,
      "outputs": []
    },
    {
      "cell_type": "markdown",
      "metadata": {
        "id": "cDbu6VbOxzNJ"
      },
      "source": [
        "------------------\n",
        "------------------\n",
        "------------------\n",
        "------------------\n",
        "\n",
        "\n",
        "\n",
        "\n"
      ]
    },
    {
      "cell_type": "code",
      "metadata": {
        "id": "yTYkJsHgfGLk",
        "colab": {
          "base_uri": "https://localhost:8080/"
        },
        "outputId": "21ddffbb-bd27-4bbb-f260-344e5b899ab3"
      },
      "source": [
        "def house_with_defined_age(dataset,age):\n",
        "    '''This function will return indices of all houses with proportion of owner-occupied units built prior to 1940 greater than age%'''\n",
        "    ids = []\n",
        "    for id, record in enumerate(dataset):\n",
        "        if record[6]>age:\n",
        "            ids.append(id)\n",
        "    return ids\n",
        "\n",
        "\n",
        "# list out all records with units built prior to 1940 greater than 50%\n",
        "samples[house_with_defined_age(samples,50)]"
      ],
      "execution_count": 59,
      "outputs": [
        {
          "output_type": "execute_result",
          "data": {
            "text/plain": [
              "array([[  0.00632,  18.     ,   2.31   , ...,  15.3    , 396.9    ,   4.98   ],\n",
              "       [  0.02731,   0.     ,   7.07   , ...,  17.8    , 396.9    ,   9.14   ],\n",
              "       [  0.02729,   0.     ,   7.07   , ...,  17.8    , 392.83   ,   4.03   ],\n",
              "       ...,\n",
              "       [  0.06076,   0.     ,  11.93   , ...,  21.     , 396.9    ,   5.64   ],\n",
              "       [  0.10959,   0.     ,  11.93   , ...,  21.     , 393.45   ,   6.48   ],\n",
              "       [  0.04741,   0.     ,  11.93   , ...,  21.     , 396.9    ,   7.88   ]])"
            ]
          },
          "metadata": {},
          "execution_count": 59
        }
      ]
    },
    {
      "cell_type": "markdown",
      "metadata": {
        "id": "N3zhYgVKfGLm"
      },
      "source": [
        "\n",
        "## <font color='#008DFF'> **Question 4**\n",
        "\n",
        "Write a function that takes as input the given dataset and two numbers $a$ and $b$, and returns the IDs of houses for which tax is either less than $a$ or more than $b$. Demonstrate how the function runs with two specific inputs $a$ and $b$ of your choice.\n",
        "\n"
      ]
    },
    {
      "cell_type": "code",
      "metadata": {
        "id": "6_0OKNXtfGLn",
        "colab": {
          "base_uri": "https://localhost:8080/"
        },
        "outputId": "f2d8a5f5-d0d4-4838-8498-fcc222ba0147"
      },
      "source": [
        "# your code goes here\n",
        "\n",
        "def house_with_tax_range(dataset,a,b):\n",
        "  '''This function will return indices of all houses for which tax per $10,000 is either less than a or more than b'''\n",
        "  ids = []\n",
        "  for id, record in enumerate(dataset):\n",
        "    if b < record[9] < a:\n",
        "      ids.append(id)\n",
        "  return ids\n",
        "\n",
        "#demonstration, a and b are property taxes per $10,000\n",
        "samples[house_with_tax_range(samples, 700, 100)]\n",
        "\n",
        "\n",
        "\n",
        "\n",
        "\n",
        "\n"
      ],
      "execution_count": 60,
      "outputs": [
        {
          "output_type": "execute_result",
          "data": {
            "text/plain": [
              "array([[  0.00632,  18.     ,   2.31   , ...,  15.3    , 396.9    ,   4.98   ],\n",
              "       [  0.02731,   0.     ,   7.07   , ...,  17.8    , 396.9    ,   9.14   ],\n",
              "       [  0.02729,   0.     ,   7.07   , ...,  17.8    , 392.83   ,   4.03   ],\n",
              "       ...,\n",
              "       [  0.06076,   0.     ,  11.93   , ...,  21.     , 396.9    ,   5.64   ],\n",
              "       [  0.10959,   0.     ,  11.93   , ...,  21.     , 393.45   ,   6.48   ],\n",
              "       [  0.04741,   0.     ,  11.93   , ...,  21.     , 396.9    ,   7.88   ]])"
            ]
          },
          "metadata": {},
          "execution_count": 60
        }
      ]
    },
    {
      "cell_type": "code",
      "metadata": {
        "id": "upNrvOZQAqVf"
      },
      "source": [
        "# Grader's area\n",
        "\n",
        "maxScore = maxScore + 4\n",
        "# M[4,1]="
      ],
      "execution_count": 61,
      "outputs": []
    },
    {
      "cell_type": "markdown",
      "source": [
        "------------------------------------------\n",
        "------------------------------------------\n",
        "------------------------------------------\n",
        "------------------------------------------"
      ],
      "metadata": {
        "id": "FwAL2fEc2cRP"
      }
    },
    {
      "cell_type": "markdown",
      "metadata": {
        "id": "0h4pDnxJ-06z"
      },
      "source": [
        "## **Part 3: *k*-NN simple implementation**\n",
        "\n",
        "Here we use a simple implementation of *k*-NN in order to understand how objects and methods work."
      ]
    },
    {
      "cell_type": "markdown",
      "source": [
        "## <font color='#008DFF'> **Question 5**\n",
        "\n"
      ],
      "metadata": {
        "id": "5ntY4Cih-qYl"
      }
    },
    {
      "cell_type": "code",
      "metadata": {
        "id": "EKQWqF-FAuky"
      },
      "source": [
        "# the following algorithm is an implementation of the kNN pseudocode we discussed in the lecture\n",
        "\n",
        "class kNN_classifier:\n",
        "  # the hyperparameters that define the object/algorithm\n",
        "  # these are given at initialization\n",
        "  def __init__(self,k, distance='euclidean'):\n",
        "    self.k = k\n",
        "    self.distance = distance\n",
        "\n",
        "\n",
        "  #here we define the methods of the knn classifier object\n",
        "\n",
        "  #the fit method takes as input the data and labels\n",
        "  def fit(self,X,y):\n",
        "    # siply save X, y as part of the object\n",
        "    # y is assumed to have labels 0 or 1 (binary classifier)\n",
        "    self.X = X\n",
        "    self.y = y\n",
        "\n",
        "\n",
        "\n",
        "  def predict(self,x):\n",
        "\n",
        "    # here we expect x to be a row vector of the same\n",
        "    # dimension as the rows of X. no checks are done.\n",
        "\n",
        "    n = self.X.shape[0]\n",
        "    S = []\n",
        "    for j in range(n):\n",
        "\n",
        "      if self.distance =='euclidean':\n",
        "        dst = np.linalg.norm(x-self.X[j,:])\n",
        "\n",
        "      S.append(dst)\n",
        "\n",
        "    # sort distances\n",
        "    prm = np.argsort(S)\n",
        "\n",
        "\n",
        "    c = 0\n",
        "    for j in range(self.k):\n",
        "      idx = prm[j]\n",
        "      if self.y[idx] == 1:\n",
        "        c = c+1\n",
        "\n",
        "    if c >= self.k//2:\n",
        "      return 1\n",
        "    else:\n",
        "      return 0\n"
      ],
      "execution_count": 62,
      "outputs": []
    },
    {
      "cell_type": "markdown",
      "source": [
        "### <font color='#008DFF'>  **Question 5(i)**\n",
        "\n",
        "Re-use the scatter plot code from the beginning of [notes](https://colab.research.google.com/drive/1NIHv_CoknQt3UcrMSezu7iUJEsEeyaaN?usp=drive_fs) from Module 1 (Introduction) in order to create a simple dataset with 2 blobs/clusters. Check whether the labels vectors contains 0s and 1s as needed by our *k*-NN code."
      ],
      "metadata": {
        "id": "6eUGohNI_JPS"
      }
    },
    {
      "cell_type": "code",
      "source": [
        "## your code goes here\n",
        "\n",
        "from IPython.display import Image\n",
        "from IPython.display import Math\n",
        "from IPython.display import Latex\n",
        "\n",
        "import matplotlib.pyplot as plt\n",
        "from sklearn.datasets import make_blobs\n",
        "import numpy as np\n",
        "\n",
        "# centers is set to 2 since we need 2 blobs, rest are default values as per https://scikit-learn.org/stable/modules/generated/sklearn.datasets.make_blobs.html and DS675 file.\n",
        "X1, Y1 = make_blobs(centers = 2, random_state = 1)\n",
        "plt.scatter(X1[:, 0], X1[:, 1], marker=\"o\", c=Y1, s=25, edgecolor=\"k\")"
      ],
      "metadata": {
        "id": "bp4DLWmz8vXn",
        "colab": {
          "base_uri": "https://localhost:8080/",
          "height": 447
        },
        "outputId": "c1526f92-405c-4c8d-8278-117ac8b35a42"
      },
      "execution_count": 63,
      "outputs": [
        {
          "output_type": "execute_result",
          "data": {
            "text/plain": [
              "<matplotlib.collections.PathCollection at 0x7c0200bf53f0>"
            ]
          },
          "metadata": {},
          "execution_count": 63
        },
        {
          "output_type": "display_data",
          "data": {
            "text/plain": [
              "<Figure size 640x480 with 1 Axes>"
            ],
            "image/png": "[encoded data removed]"
          },
          "metadata": {}
        }
      ]
    },
    {
      "cell_type": "code",
      "source": [
        "# labels vector\n",
        "Y1"
      ],
      "metadata": {
        "colab": {
          "base_uri": "https://localhost:8080/"
        },
        "id": "6IRTWTNfj2B2",
        "outputId": "44a02293-d436-4e2d-dd82-a2d603ba59c3"
      },
      "execution_count": 64,
      "outputs": [
        {
          "output_type": "execute_result",
          "data": {
            "text/plain": [
              "array([0, 1, 0, 0, 1, 1, 1, 1, 0, 0, 1, 0, 1, 0, 1, 1, 1, 0, 0, 1, 1, 1, 1, 0, 0, 1, 1, 0, 0, 1, 0, 0, 1, 0, 1, 1, 0, 1, 1,\n",
              "       1, 1, 1, 0, 1, 0, 1, 0, 0, 0, 0, 0, 1, 1, 1, 0, 1, 0, 1, 0, 0, 0, 1, 1, 1, 1, 1, 0, 1, 0, 0, 1, 1, 1, 0, 0, 0, 1, 1,\n",
              "       0, 0, 0, 1, 0, 1, 0, 0, 0, 0, 0, 0, 1, 0, 0, 0, 1, 1, 1, 0, 1, 0])"
            ]
          },
          "metadata": {},
          "execution_count": 64
        }
      ]
    },
    {
      "cell_type": "code",
      "source": [
        "# Grader's area\n",
        "\n",
        "maxScore = maxScore +5\n",
        "#M[5,1] =\n",
        "\n"
      ],
      "metadata": {
        "id": "NqpvrcbI_xG1"
      },
      "execution_count": 65,
      "outputs": []
    },
    {
      "cell_type": "markdown",
      "source": [],
      "metadata": {
        "id": "knWS8oKD_9QI"
      }
    },
    {
      "cell_type": "markdown",
      "source": [
        "### <font color='#008DFF'>  **Question 5(ii)**\n",
        "\n",
        "Initialize a *k*-NN classifier using the class we wrote above. (Hint: see the [*k*-NN lab](https://colab.research.google.com/drive/1Mh6I3bR8pE90kcs28JfKok59NtfV_7ct?usp=drive_fs) for an example of how to initialize an object.)"
      ],
      "metadata": {
        "id": "SROYKfcm_9gk"
      }
    },
    {
      "cell_type": "code",
      "source": [
        "## your code goes here\n",
        "kNN = kNN_classifier(k=4)"
      ],
      "metadata": {
        "id": "2Ni9kwJLAQUc"
      },
      "execution_count": 66,
      "outputs": []
    },
    {
      "cell_type": "code",
      "source": [
        "# Grader's area\n",
        "\n",
        "maxScore = maxScore +5\n",
        "#M[5,2] =\n",
        "\n"
      ],
      "metadata": {
        "id": "701AcFiuAQUc"
      },
      "execution_count": 67,
      "outputs": []
    },
    {
      "cell_type": "markdown",
      "source": [
        "### <font color='#008DFF'>  **Question 5(iii)**\n",
        "\n",
        "Add code in the *k*-NN classifier defined above, in order to handle the case when the hyperparameter *distance* is set to 'Manhattan'."
      ],
      "metadata": {
        "id": "6VchLMyhAaP5"
      }
    },
    {
      "cell_type": "code",
      "source": [
        "## your additional code goes here.\n",
        "## Please make a comment about where it should be added in the original code above\n",
        "\n",
        "# I shall code the entire function again with the required changes along with corresponding comments.\n",
        "class kNN_classifier:\n",
        "  def __init__(self,k, distance='euclidean'):\n",
        "    self.k = k\n",
        "    self.distance = distance\n",
        "\n",
        "  def fit(self,X,y):\n",
        "    self.X = X\n",
        "    self.y = y\n",
        "\n",
        "  def predict(self,x):\n",
        "    n = self.X.shape[0]\n",
        "    S = []\n",
        "    for j in range(n):\n",
        "\n",
        "      if self.distance =='euclidean':\n",
        "        dst = np.linalg.norm(x-self.X[j,:])\n",
        "\n",
        "      #here, we add another condition, checking if the string passed while initializing the classififer is Manhatton or not.\n",
        "      elif self.distance == 'Manhattan':\n",
        "        dst = np.sum(np.abs(x - self.X[j,:]))\n",
        "\n",
        "      # raise an error if any other string is passed\n",
        "      else:\n",
        "        raise ValueError(\"Invalid hyperparameter\")\n",
        "\n",
        "      S.append(dst)\n",
        "\n",
        "    # sort distances\n",
        "    prm = np.argsort(S)\n",
        "\n",
        "\n",
        "    c = 0\n",
        "    for j in range(self.k):\n",
        "      idx = prm[j]\n",
        "      if self.y[idx] == 1:\n",
        "        c = c+1\n",
        "\n",
        "    if c >= self.k//2:\n",
        "      return 1\n",
        "    else:\n",
        "      return 0\n",
        "\n",
        "\n",
        "\n",
        "\n",
        "\n",
        "\n"
      ],
      "metadata": {
        "id": "_2w5NybMB6oT"
      },
      "execution_count": 68,
      "outputs": []
    },
    {
      "cell_type": "code",
      "source": [
        "# Grader's area\n",
        "\n",
        "maxScore = maxScore +5\n",
        "#M[5,3] =\n",
        "\n"
      ],
      "metadata": {
        "id": "HsiMfcevAqlW"
      },
      "execution_count": 69,
      "outputs": []
    },
    {
      "cell_type": "markdown",
      "source": [
        "----------------------\n",
        "----------------------\n",
        "----------------------"
      ],
      "metadata": {
        "id": "oRMj1OX-B_fn"
      }
    },
    {
      "cell_type": "code",
      "source": [
        "#Grader's area\n",
        "\n",
        "# rawScore = np.sum(M)\n",
        "rawScore=21\n",
        "maxScore=28\n",
        "score = rawScore*40/maxScore\n",
        "display(score)"
      ],
      "metadata": {
        "id": "IVkneTzYCAxs",
        "colab": {
          "base_uri": "https://localhost:8080/",
          "height": 34
        },
        "outputId": "4dcd9de0-529e-4e2c-a192-ed0767b611f9"
      },
      "execution_count": 70,
      "outputs": [
        {
          "output_type": "display_data",
          "data": {
            "text/plain": [
              "30.0"
            ]
          },
          "metadata": {}
        }
      ]
    },
    {
      "cell_type": "code",
      "source": [],
      "metadata": {
        "id": "fo4TYoEFCSTt"
      },
      "execution_count": 70,
      "outputs": []
    }
  ]
}