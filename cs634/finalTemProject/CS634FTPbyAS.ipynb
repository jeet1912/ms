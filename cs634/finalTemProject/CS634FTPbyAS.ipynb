You should seriously see my X handle. 
